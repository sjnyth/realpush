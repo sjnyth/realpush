{
 "cells": [
  {
   "cell_type": "markdown",
   "metadata": {},
   "source": [
    "#  *** DRAFT ***\n",
    "##### Author: Omer Nivron\n",
    "##### Date: 04/09/19"
   ]
  },
  {
   "cell_type": "markdown",
   "metadata": {},
   "source": [
    "# Predict whether or not it will rain tomorrow in Australia"
   ]
  },
  {
   "cell_type": "markdown",
   "metadata": {},
   "source": [
    "####  Data source: https://www.kaggle.com/jsphyg/weather-dataset-rattle-package "
   ]
  },
  {
   "cell_type": "markdown",
   "metadata": {},
   "source": [
    "### Plan\n",
    "\n",
    "1. Data cleanup\n",
    " - Formatting issues\n",
    " - Duplicates\n",
    " - Missing values\n",
    " \n",
    "2. Exploration\n",
    " - visualizations\n",
    " \n",
    "3. Feature Engineering\n",
    " - transform categorical features\n",
    " - \n",
    " -\n",
    "\n",
    "4. Modeling\n",
    "    - Decision tree classifier\n",
    "    - Random forest classifier\n",
    "\n",
    "5. Evalution\n",
    "    - misclassification error\n",
    "    - feature importance"
   ]
  },
  {
   "cell_type": "markdown",
   "metadata": {},
   "source": [
    "### Import packages"
   ]
  },
  {
   "cell_type": "code",
   "execution_count": 1,
   "metadata": {},
   "outputs": [],
   "source": [
    "import pandas as pd\n",
    "import numpy as np \n",
    "import scipy.stats\n",
    "import matplotlib.pyplot as plt\n",
    "import seaborn as sns\n",
    "from sklearn import tree, ensemble\n",
    "from datetime import datetime\n",
    "import time\n",
    "import warnings\n",
    "warnings.filterwarnings('ignore')"
   ]
  },
  {
   "cell_type": "markdown",
   "metadata": {},
   "source": [
    "### Functions"
   ]
  },
  {
   "cell_type": "code",
   "execution_count": 2,
   "metadata": {},
   "outputs": [],
   "source": [
    "def extract_year_mon_day_cols_from_date_col(df):\n",
    "    df['Year'], df['Month'], df['Day'] = df['Date'].dt.year, df['Date'].dt.month, df['Date'].dt.day\n",
    "    return df"
   ]
  },
  {
   "cell_type": "code",
   "execution_count": 3,
   "metadata": {},
   "outputs": [],
   "source": [
    "def remove_miss_col_with_bigger_than_share(df, share):\n",
    "    df = df.loc[:, (df.isnull().sum(axis=0) / df.shape[0]) <= share]\n",
    "    \n",
    "    return df"
   ]
  },
  {
   "cell_type": "code",
   "execution_count": 4,
   "metadata": {},
   "outputs": [],
   "source": [
    "def get_mode_col_w_missing_vals(df, col_name, groupby_cols = None):\n",
    "    mode = df[groupby_cols + [col_name]][~df[col_name].isna()].groupby(groupby_cols) \\\n",
    "    .agg(lambda x: scipy.stats.mode(x)[0])[col_name].reset_index()\n",
    "    # merge with df\n",
    "    df = pd.merge(df, mode, on=groupby_cols, suffixes=('', '_mode'))\n",
    "    return df"
   ]
  },
  {
   "cell_type": "code",
   "execution_count": 5,
   "metadata": {},
   "outputs": [],
   "source": [
    "def get_median_col_w_missing_vals(df, col_name, groupby_cols = None):\n",
    "    median = df[groupby_cols + [col_name]][~df[col_name] \\\n",
    "                                                               .isna()].groupby(groupby_cols) \\\n",
    "                                                            .median()[col_name].reset_index()\n",
    "    # merge with df\n",
    "    df = pd.merge(df, median, on=groupby_cols, suffixes=('', '_median'))\n",
    "    return df"
   ]
  },
  {
   "cell_type": "code",
   "execution_count": 6,
   "metadata": {},
   "outputs": [],
   "source": [
    "def wrapper_median_mode_df(df): \n",
    "    for column in list(df.columns[df.isna().sum() > 0]):\n",
    "        if df[column].dtype == 'O':\n",
    "            df = get_mode_col_w_missing_vals(df, column, ['Location','Year','Month'])\n",
    "            df = if_na_get_mode_or_median(df, column, func = 'mode')\n",
    "        else:\n",
    "            df = get_median_col_w_missing_vals(df, column, ['Location','Year','Month'])\n",
    "            df = if_na_get_mode_or_median(df, column, func = 'median')\n",
    "    return df"
   ]
  },
  {
   "cell_type": "code",
   "execution_count": 7,
   "metadata": {},
   "outputs": [],
   "source": [
    "def if_na_get_mode_or_median(df, col_name, func = 'mode'):\n",
    "    df.loc[df[col_name].isna(), col_name] = df[df[col_name].isna()][col_name + '_' + func]\n",
    "    df = df.drop(col_name + '_' + func, axis=1)\n",
    "    return df"
   ]
  },
  {
   "cell_type": "code",
   "execution_count": 8,
   "metadata": {},
   "outputs": [],
   "source": [
    "def if_no_rainToday_zero_rainfall(df):\n",
    "    df['Rainfall'] = df[['Rainfall', 'RainToday']].apply(lambda x: x['Rainfall'] \\\n",
    "                                                                          if x['RainToday'] == 'Yes' else 0 , axis =1)\n",
    "    \n",
    "    return df"
   ]
  },
  {
   "cell_type": "code",
   "execution_count": 9,
   "metadata": {},
   "outputs": [],
   "source": [
    "def transform_string_to_date(pd_series):\n",
    "    pd_series = pd_series.apply(lambda x: datetime.strptime(x, '%Y-%m-%d'))\n",
    "    return pd_series"
   ]
  },
  {
   "cell_type": "code",
   "execution_count": 10,
   "metadata": {},
   "outputs": [],
   "source": [
    "def transform_yes_no_col_to_binary(df, col_name):\n",
    "    df[col_name] = df[col_name].apply(lambda x: 1 if x == 'Yes' else 0)\n",
    "    return df"
   ]
  },
  {
   "cell_type": "code",
   "execution_count": 11,
   "metadata": {},
   "outputs": [],
   "source": [
    "def transform_to_dummies(df, cols):\n",
    "    dummies =  pd.get_dummies(df[cols])\n",
    "    df = df.drop(cols, axis =1)\n",
    "    df = pd.concat([df, dummies], axis=1)\n",
    "    return df"
   ]
  },
  {
   "cell_type": "code",
   "execution_count": 12,
   "metadata": {},
   "outputs": [],
   "source": [
    "def tr_te_split(df, traget_col, cond_col, cond):\n",
    "    index_split = df[cond_col] > cond\n",
    "    tr_x, tr_y, te_x, te_y = df.loc[index_split, df.columns != traget_col], \\\n",
    "    df.loc[index_split, traget_col], df.loc[~index_split, df.columns != traget_col], \\\n",
    "    df.loc[~index_split, traget_col] \n",
    "    \n",
    "    return tr_x, tr_y, te_x, te_y"
   ]
  },
  {
   "cell_type": "code",
   "execution_count": 13,
   "metadata": {},
   "outputs": [],
   "source": [
    "def calc_misclass_error(pred, target):\n",
    "    error = np.where((pred == target) == False)[0].shape[0]/ target.shape[0]\n",
    "    return error"
   ]
  },
  {
   "cell_type": "markdown",
   "metadata": {},
   "source": [
    "### Read data "
   ]
  },
  {
   "cell_type": "code",
   "execution_count": 14,
   "metadata": {},
   "outputs": [],
   "source": [
    "australian_rain_df = pd.read_csv('weatherAUS.csv')"
   ]
  },
  {
   "cell_type": "markdown",
   "metadata": {},
   "source": [
    "#### Data statistics - get sense what values we have "
   ]
  },
  {
   "cell_type": "code",
   "execution_count": 15,
   "metadata": {},
   "outputs": [
    {
     "data": {
      "text/html": [
       "<div>\n",
       "<style scoped>\n",
       "    .dataframe tbody tr th:only-of-type {\n",
       "        vertical-align: middle;\n",
       "    }\n",
       "\n",
       "    .dataframe tbody tr th {\n",
       "        vertical-align: top;\n",
       "    }\n",
       "\n",
       "    .dataframe thead th {\n",
       "        text-align: right;\n",
       "    }\n",
       "</style>\n",
       "<table border=\"1\" class=\"dataframe\">\n",
       "  <thead>\n",
       "    <tr style=\"text-align: right;\">\n",
       "      <th></th>\n",
       "      <th>MinTemp</th>\n",
       "      <th>MaxTemp</th>\n",
       "      <th>Rainfall</th>\n",
       "      <th>Evaporation</th>\n",
       "      <th>Sunshine</th>\n",
       "      <th>WindGustSpeed</th>\n",
       "      <th>WindSpeed9am</th>\n",
       "      <th>WindSpeed3pm</th>\n",
       "      <th>Humidity9am</th>\n",
       "      <th>Humidity3pm</th>\n",
       "      <th>Pressure9am</th>\n",
       "      <th>Pressure3pm</th>\n",
       "      <th>Cloud9am</th>\n",
       "      <th>Cloud3pm</th>\n",
       "      <th>Temp9am</th>\n",
       "      <th>Temp3pm</th>\n",
       "      <th>RISK_MM</th>\n",
       "    </tr>\n",
       "  </thead>\n",
       "  <tbody>\n",
       "    <tr>\n",
       "      <th>count</th>\n",
       "      <td>141556.000000</td>\n",
       "      <td>141871.000000</td>\n",
       "      <td>140787.000000</td>\n",
       "      <td>81350.000000</td>\n",
       "      <td>74377.000000</td>\n",
       "      <td>132923.000000</td>\n",
       "      <td>140845.000000</td>\n",
       "      <td>139563.000000</td>\n",
       "      <td>140419.000000</td>\n",
       "      <td>138583.000000</td>\n",
       "      <td>128179.000000</td>\n",
       "      <td>128212.000000</td>\n",
       "      <td>88536.000000</td>\n",
       "      <td>85099.000000</td>\n",
       "      <td>141289.000000</td>\n",
       "      <td>139467.000000</td>\n",
       "      <td>142193.000000</td>\n",
       "    </tr>\n",
       "    <tr>\n",
       "      <th>mean</th>\n",
       "      <td>12.186400</td>\n",
       "      <td>23.226784</td>\n",
       "      <td>2.349974</td>\n",
       "      <td>5.469824</td>\n",
       "      <td>7.624853</td>\n",
       "      <td>39.984292</td>\n",
       "      <td>14.001988</td>\n",
       "      <td>18.637576</td>\n",
       "      <td>68.843810</td>\n",
       "      <td>51.482606</td>\n",
       "      <td>1017.653758</td>\n",
       "      <td>1015.258204</td>\n",
       "      <td>4.437189</td>\n",
       "      <td>4.503167</td>\n",
       "      <td>16.987509</td>\n",
       "      <td>21.687235</td>\n",
       "      <td>2.360682</td>\n",
       "    </tr>\n",
       "    <tr>\n",
       "      <th>std</th>\n",
       "      <td>6.403283</td>\n",
       "      <td>7.117618</td>\n",
       "      <td>8.465173</td>\n",
       "      <td>4.188537</td>\n",
       "      <td>3.781525</td>\n",
       "      <td>13.588801</td>\n",
       "      <td>8.893337</td>\n",
       "      <td>8.803345</td>\n",
       "      <td>19.051293</td>\n",
       "      <td>20.797772</td>\n",
       "      <td>7.105476</td>\n",
       "      <td>7.036677</td>\n",
       "      <td>2.887016</td>\n",
       "      <td>2.720633</td>\n",
       "      <td>6.492838</td>\n",
       "      <td>6.937594</td>\n",
       "      <td>8.477969</td>\n",
       "    </tr>\n",
       "    <tr>\n",
       "      <th>min</th>\n",
       "      <td>-8.500000</td>\n",
       "      <td>-4.800000</td>\n",
       "      <td>0.000000</td>\n",
       "      <td>0.000000</td>\n",
       "      <td>0.000000</td>\n",
       "      <td>6.000000</td>\n",
       "      <td>0.000000</td>\n",
       "      <td>0.000000</td>\n",
       "      <td>0.000000</td>\n",
       "      <td>0.000000</td>\n",
       "      <td>980.500000</td>\n",
       "      <td>977.100000</td>\n",
       "      <td>0.000000</td>\n",
       "      <td>0.000000</td>\n",
       "      <td>-7.200000</td>\n",
       "      <td>-5.400000</td>\n",
       "      <td>0.000000</td>\n",
       "    </tr>\n",
       "    <tr>\n",
       "      <th>25%</th>\n",
       "      <td>7.600000</td>\n",
       "      <td>17.900000</td>\n",
       "      <td>0.000000</td>\n",
       "      <td>2.600000</td>\n",
       "      <td>4.900000</td>\n",
       "      <td>31.000000</td>\n",
       "      <td>7.000000</td>\n",
       "      <td>13.000000</td>\n",
       "      <td>57.000000</td>\n",
       "      <td>37.000000</td>\n",
       "      <td>1012.900000</td>\n",
       "      <td>1010.400000</td>\n",
       "      <td>1.000000</td>\n",
       "      <td>2.000000</td>\n",
       "      <td>12.300000</td>\n",
       "      <td>16.600000</td>\n",
       "      <td>0.000000</td>\n",
       "    </tr>\n",
       "    <tr>\n",
       "      <th>50%</th>\n",
       "      <td>12.000000</td>\n",
       "      <td>22.600000</td>\n",
       "      <td>0.000000</td>\n",
       "      <td>4.800000</td>\n",
       "      <td>8.500000</td>\n",
       "      <td>39.000000</td>\n",
       "      <td>13.000000</td>\n",
       "      <td>19.000000</td>\n",
       "      <td>70.000000</td>\n",
       "      <td>52.000000</td>\n",
       "      <td>1017.600000</td>\n",
       "      <td>1015.200000</td>\n",
       "      <td>5.000000</td>\n",
       "      <td>5.000000</td>\n",
       "      <td>16.700000</td>\n",
       "      <td>21.100000</td>\n",
       "      <td>0.000000</td>\n",
       "    </tr>\n",
       "    <tr>\n",
       "      <th>75%</th>\n",
       "      <td>16.800000</td>\n",
       "      <td>28.200000</td>\n",
       "      <td>0.800000</td>\n",
       "      <td>7.400000</td>\n",
       "      <td>10.600000</td>\n",
       "      <td>48.000000</td>\n",
       "      <td>19.000000</td>\n",
       "      <td>24.000000</td>\n",
       "      <td>83.000000</td>\n",
       "      <td>66.000000</td>\n",
       "      <td>1022.400000</td>\n",
       "      <td>1020.000000</td>\n",
       "      <td>7.000000</td>\n",
       "      <td>7.000000</td>\n",
       "      <td>21.600000</td>\n",
       "      <td>26.400000</td>\n",
       "      <td>0.800000</td>\n",
       "    </tr>\n",
       "    <tr>\n",
       "      <th>max</th>\n",
       "      <td>33.900000</td>\n",
       "      <td>48.100000</td>\n",
       "      <td>371.000000</td>\n",
       "      <td>145.000000</td>\n",
       "      <td>14.500000</td>\n",
       "      <td>135.000000</td>\n",
       "      <td>130.000000</td>\n",
       "      <td>87.000000</td>\n",
       "      <td>100.000000</td>\n",
       "      <td>100.000000</td>\n",
       "      <td>1041.000000</td>\n",
       "      <td>1039.600000</td>\n",
       "      <td>9.000000</td>\n",
       "      <td>9.000000</td>\n",
       "      <td>40.200000</td>\n",
       "      <td>46.700000</td>\n",
       "      <td>371.000000</td>\n",
       "    </tr>\n",
       "  </tbody>\n",
       "</table>\n",
       "</div>"
      ],
      "text/plain": [
       "             MinTemp        MaxTemp       Rainfall   Evaporation  \\\n",
       "count  141556.000000  141871.000000  140787.000000  81350.000000   \n",
       "mean       12.186400      23.226784       2.349974      5.469824   \n",
       "std         6.403283       7.117618       8.465173      4.188537   \n",
       "min        -8.500000      -4.800000       0.000000      0.000000   \n",
       "25%         7.600000      17.900000       0.000000      2.600000   \n",
       "50%        12.000000      22.600000       0.000000      4.800000   \n",
       "75%        16.800000      28.200000       0.800000      7.400000   \n",
       "max        33.900000      48.100000     371.000000    145.000000   \n",
       "\n",
       "           Sunshine  WindGustSpeed   WindSpeed9am   WindSpeed3pm  \\\n",
       "count  74377.000000  132923.000000  140845.000000  139563.000000   \n",
       "mean       7.624853      39.984292      14.001988      18.637576   \n",
       "std        3.781525      13.588801       8.893337       8.803345   \n",
       "min        0.000000       6.000000       0.000000       0.000000   \n",
       "25%        4.900000      31.000000       7.000000      13.000000   \n",
       "50%        8.500000      39.000000      13.000000      19.000000   \n",
       "75%       10.600000      48.000000      19.000000      24.000000   \n",
       "max       14.500000     135.000000     130.000000      87.000000   \n",
       "\n",
       "         Humidity9am    Humidity3pm    Pressure9am    Pressure3pm  \\\n",
       "count  140419.000000  138583.000000  128179.000000  128212.000000   \n",
       "mean       68.843810      51.482606    1017.653758    1015.258204   \n",
       "std        19.051293      20.797772       7.105476       7.036677   \n",
       "min         0.000000       0.000000     980.500000     977.100000   \n",
       "25%        57.000000      37.000000    1012.900000    1010.400000   \n",
       "50%        70.000000      52.000000    1017.600000    1015.200000   \n",
       "75%        83.000000      66.000000    1022.400000    1020.000000   \n",
       "max       100.000000     100.000000    1041.000000    1039.600000   \n",
       "\n",
       "           Cloud9am      Cloud3pm        Temp9am        Temp3pm        RISK_MM  \n",
       "count  88536.000000  85099.000000  141289.000000  139467.000000  142193.000000  \n",
       "mean       4.437189      4.503167      16.987509      21.687235       2.360682  \n",
       "std        2.887016      2.720633       6.492838       6.937594       8.477969  \n",
       "min        0.000000      0.000000      -7.200000      -5.400000       0.000000  \n",
       "25%        1.000000      2.000000      12.300000      16.600000       0.000000  \n",
       "50%        5.000000      5.000000      16.700000      21.100000       0.000000  \n",
       "75%        7.000000      7.000000      21.600000      26.400000       0.800000  \n",
       "max        9.000000      9.000000      40.200000      46.700000     371.000000  "
      ]
     },
     "execution_count": 15,
     "metadata": {},
     "output_type": "execute_result"
    }
   ],
   "source": [
    "australian_rain_df.describe()"
   ]
  },
  {
   "cell_type": "markdown",
   "metadata": {},
   "source": [
    "### Data cleaning"
   ]
  },
  {
   "cell_type": "markdown",
   "metadata": {},
   "source": [
    "##### According to kaggle we should remove the column RISK_MM"
   ]
  },
  {
   "cell_type": "code",
   "execution_count": 16,
   "metadata": {},
   "outputs": [],
   "source": [
    "australian_rain_df = australian_rain_df.drop('RISK_MM', axis=1)"
   ]
  },
  {
   "cell_type": "markdown",
   "metadata": {},
   "source": [
    "#### Formatting - here we check the type each column has and change it if needed"
   ]
  },
  {
   "cell_type": "code",
   "execution_count": 17,
   "metadata": {},
   "outputs": [
    {
     "data": {
      "text/html": [
       "<div>\n",
       "<style scoped>\n",
       "    .dataframe tbody tr th:only-of-type {\n",
       "        vertical-align: middle;\n",
       "    }\n",
       "\n",
       "    .dataframe tbody tr th {\n",
       "        vertical-align: top;\n",
       "    }\n",
       "\n",
       "    .dataframe thead th {\n",
       "        text-align: right;\n",
       "    }\n",
       "</style>\n",
       "<table border=\"1\" class=\"dataframe\">\n",
       "  <thead>\n",
       "    <tr style=\"text-align: right;\">\n",
       "      <th></th>\n",
       "      <th>Date</th>\n",
       "      <th>Location</th>\n",
       "      <th>MinTemp</th>\n",
       "      <th>MaxTemp</th>\n",
       "      <th>Rainfall</th>\n",
       "      <th>Evaporation</th>\n",
       "      <th>Sunshine</th>\n",
       "      <th>WindGustDir</th>\n",
       "      <th>WindGustSpeed</th>\n",
       "      <th>WindDir9am</th>\n",
       "      <th>...</th>\n",
       "      <th>Humidity9am</th>\n",
       "      <th>Humidity3pm</th>\n",
       "      <th>Pressure9am</th>\n",
       "      <th>Pressure3pm</th>\n",
       "      <th>Cloud9am</th>\n",
       "      <th>Cloud3pm</th>\n",
       "      <th>Temp9am</th>\n",
       "      <th>Temp3pm</th>\n",
       "      <th>RainToday</th>\n",
       "      <th>RainTomorrow</th>\n",
       "    </tr>\n",
       "  </thead>\n",
       "  <tbody>\n",
       "    <tr>\n",
       "      <th>0</th>\n",
       "      <td>object</td>\n",
       "      <td>object</td>\n",
       "      <td>float64</td>\n",
       "      <td>float64</td>\n",
       "      <td>float64</td>\n",
       "      <td>float64</td>\n",
       "      <td>float64</td>\n",
       "      <td>object</td>\n",
       "      <td>float64</td>\n",
       "      <td>object</td>\n",
       "      <td>...</td>\n",
       "      <td>float64</td>\n",
       "      <td>float64</td>\n",
       "      <td>float64</td>\n",
       "      <td>float64</td>\n",
       "      <td>float64</td>\n",
       "      <td>float64</td>\n",
       "      <td>float64</td>\n",
       "      <td>float64</td>\n",
       "      <td>object</td>\n",
       "      <td>object</td>\n",
       "    </tr>\n",
       "  </tbody>\n",
       "</table>\n",
       "<p>1 rows × 23 columns</p>\n",
       "</div>"
      ],
      "text/plain": [
       "     Date Location  MinTemp  MaxTemp Rainfall Evaporation Sunshine  \\\n",
       "0  object   object  float64  float64  float64     float64  float64   \n",
       "\n",
       "  WindGustDir WindGustSpeed WindDir9am  ... Humidity9am Humidity3pm  \\\n",
       "0      object       float64     object  ...     float64     float64   \n",
       "\n",
       "  Pressure9am Pressure3pm Cloud9am Cloud3pm  Temp9am  Temp3pm RainToday  \\\n",
       "0     float64     float64  float64  float64  float64  float64    object   \n",
       "\n",
       "  RainTomorrow  \n",
       "0       object  \n",
       "\n",
       "[1 rows x 23 columns]"
      ]
     },
     "execution_count": 17,
     "metadata": {},
     "output_type": "execute_result"
    }
   ],
   "source": [
    "pd.DataFrame(australian_rain_df.dtypes).transpose()"
   ]
  },
  {
   "cell_type": "markdown",
   "metadata": {},
   "source": [
    "##### Let's check the type of the object columns"
   ]
  },
  {
   "cell_type": "code",
   "execution_count": 18,
   "metadata": {},
   "outputs": [
    {
     "data": {
      "text/plain": [
       "[str, str, str, str, str, str, str]"
      ]
     },
     "execution_count": 18,
     "metadata": {},
     "output_type": "execute_result"
    }
   ],
   "source": [
    "list(map(type, australian_rain_df.columns[australian_rain_df.dtypes == 'object']))"
   ]
  },
  {
   "cell_type": "markdown",
   "metadata": {},
   "source": [
    "##### 1. Change Date column to date type and extract year, month and day columns\n",
    "\n"
   ]
  },
  {
   "cell_type": "code",
   "execution_count": 19,
   "metadata": {},
   "outputs": [],
   "source": [
    "australian_rain_df['Date'] = transform_string_to_date(australian_rain_df['Date'])\n",
    "australian_rain_df = extract_year_mon_day_cols_from_date_col(australian_rain_df)"
   ]
  },
  {
   "cell_type": "markdown",
   "metadata": {},
   "source": [
    "##### 2. Change RainToday and RainTomorrow to 0/1 instead Yes/No\n",
    "Preform this step only after treating the missing values (uncomment) "
   ]
  },
  {
   "cell_type": "code",
   "execution_count": 20,
   "metadata": {},
   "outputs": [],
   "source": [
    "# australian_rain_df = transform_yes_no_col_to_binary(australian_rain_df, 'RainToday')\n",
    "# australian_rain_df = transform_yes_no_col_to_binary(australian_rain_df, 'RainTomorrow')"
   ]
  },
  {
   "cell_type": "markdown",
   "metadata": {},
   "source": [
    "#### Duplicates - are there any repeating dates per location ? "
   ]
  },
  {
   "cell_type": "code",
   "execution_count": 21,
   "metadata": {
    "scrolled": true
   },
   "outputs": [
    {
     "name": "stdout",
     "output_type": "stream",
     "text": [
      "There are 0 duplicated dates here!\n"
     ]
    }
   ],
   "source": [
    "print(\"There are \" + str(sum(australian_rain_df.duplicated(subset=['Date','Location'], keep=False))) + \" duplicated dates here!\")"
   ]
  },
  {
   "cell_type": "markdown",
   "metadata": {},
   "source": [
    "##### Let's drop the Date column (we have the Year, Month and Day instead)"
   ]
  },
  {
   "cell_type": "code",
   "execution_count": 22,
   "metadata": {},
   "outputs": [],
   "source": [
    "australian_rain_df = australian_rain_df.drop('Date', axis=1)"
   ]
  },
  {
   "cell_type": "markdown",
   "metadata": {},
   "source": [
    "#### Missing values - imputation"
   ]
  },
  {
   "cell_type": "code",
   "execution_count": 23,
   "metadata": {
    "scrolled": false
   },
   "outputs": [
    {
     "data": {
      "text/html": [
       "<div>\n",
       "<style scoped>\n",
       "    .dataframe tbody tr th:only-of-type {\n",
       "        vertical-align: middle;\n",
       "    }\n",
       "\n",
       "    .dataframe tbody tr th {\n",
       "        vertical-align: top;\n",
       "    }\n",
       "\n",
       "    .dataframe thead th {\n",
       "        text-align: right;\n",
       "    }\n",
       "</style>\n",
       "<table border=\"1\" class=\"dataframe\">\n",
       "  <thead>\n",
       "    <tr style=\"text-align: right;\">\n",
       "      <th></th>\n",
       "      <th>Location</th>\n",
       "      <th>MinTemp</th>\n",
       "      <th>MaxTemp</th>\n",
       "      <th>Rainfall</th>\n",
       "      <th>Evaporation</th>\n",
       "      <th>Sunshine</th>\n",
       "      <th>WindGustDir</th>\n",
       "      <th>WindGustSpeed</th>\n",
       "      <th>WindDir9am</th>\n",
       "      <th>WindDir3pm</th>\n",
       "      <th>...</th>\n",
       "      <th>Pressure3pm</th>\n",
       "      <th>Cloud9am</th>\n",
       "      <th>Cloud3pm</th>\n",
       "      <th>Temp9am</th>\n",
       "      <th>Temp3pm</th>\n",
       "      <th>RainToday</th>\n",
       "      <th>RainTomorrow</th>\n",
       "      <th>Year</th>\n",
       "      <th>Month</th>\n",
       "      <th>Day</th>\n",
       "    </tr>\n",
       "  </thead>\n",
       "  <tbody>\n",
       "    <tr>\n",
       "      <th>Missing_abs</th>\n",
       "      <td>0.0</td>\n",
       "      <td>637.00000</td>\n",
       "      <td>322.000000</td>\n",
       "      <td>1406.000000</td>\n",
       "      <td>60843.00000</td>\n",
       "      <td>67816.000000</td>\n",
       "      <td>9330.000000</td>\n",
       "      <td>9270.000000</td>\n",
       "      <td>10013.000000</td>\n",
       "      <td>3778.00000</td>\n",
       "      <td>...</td>\n",
       "      <td>13981.000000</td>\n",
       "      <td>53657.000000</td>\n",
       "      <td>57094.000000</td>\n",
       "      <td>904.000000</td>\n",
       "      <td>2726.000000</td>\n",
       "      <td>1406.000000</td>\n",
       "      <td>0.0</td>\n",
       "      <td>0.0</td>\n",
       "      <td>0.0</td>\n",
       "      <td>0.0</td>\n",
       "    </tr>\n",
       "    <tr>\n",
       "      <th>Missing_share</th>\n",
       "      <td>0.0</td>\n",
       "      <td>0.00448</td>\n",
       "      <td>0.002265</td>\n",
       "      <td>0.009888</td>\n",
       "      <td>0.42789</td>\n",
       "      <td>0.476929</td>\n",
       "      <td>0.065615</td>\n",
       "      <td>0.065193</td>\n",
       "      <td>0.070418</td>\n",
       "      <td>0.02657</td>\n",
       "      <td>...</td>\n",
       "      <td>0.098324</td>\n",
       "      <td>0.377353</td>\n",
       "      <td>0.401525</td>\n",
       "      <td>0.006358</td>\n",
       "      <td>0.019171</td>\n",
       "      <td>0.009888</td>\n",
       "      <td>0.0</td>\n",
       "      <td>0.0</td>\n",
       "      <td>0.0</td>\n",
       "      <td>0.0</td>\n",
       "    </tr>\n",
       "  </tbody>\n",
       "</table>\n",
       "<p>2 rows × 25 columns</p>\n",
       "</div>"
      ],
      "text/plain": [
       "               Location    MinTemp     MaxTemp     Rainfall  Evaporation  \\\n",
       "Missing_abs         0.0  637.00000  322.000000  1406.000000  60843.00000   \n",
       "Missing_share       0.0    0.00448    0.002265     0.009888      0.42789   \n",
       "\n",
       "                   Sunshine  WindGustDir  WindGustSpeed    WindDir9am  \\\n",
       "Missing_abs    67816.000000  9330.000000    9270.000000  10013.000000   \n",
       "Missing_share      0.476929     0.065615       0.065193      0.070418   \n",
       "\n",
       "               WindDir3pm  ...   Pressure3pm      Cloud9am      Cloud3pm  \\\n",
       "Missing_abs    3778.00000  ...  13981.000000  53657.000000  57094.000000   \n",
       "Missing_share     0.02657  ...      0.098324      0.377353      0.401525   \n",
       "\n",
       "                  Temp9am      Temp3pm    RainToday  RainTomorrow  Year  \\\n",
       "Missing_abs    904.000000  2726.000000  1406.000000           0.0   0.0   \n",
       "Missing_share    0.006358     0.019171     0.009888           0.0   0.0   \n",
       "\n",
       "               Month  Day  \n",
       "Missing_abs      0.0  0.0  \n",
       "Missing_share    0.0  0.0  \n",
       "\n",
       "[2 rows x 25 columns]"
      ]
     },
     "execution_count": 23,
     "metadata": {},
     "output_type": "execute_result"
    }
   ],
   "source": [
    " pd.DataFrame({'Missing_abs':[australian_rain_df.isna().sum()][0], \\\n",
    "               'Missing_share':[australian_rain_df.isna().sum() / australian_rain_df.shape[0]][0]}).transpose()"
   ]
  },
  {
   "cell_type": "markdown",
   "metadata": {},
   "source": [
    "##### Let's remove columns with missing value share greater than 0.35"
   ]
  },
  {
   "cell_type": "code",
   "execution_count": 24,
   "metadata": {},
   "outputs": [],
   "source": [
    "australian_rain_df = remove_miss_col_with_bigger_than_share(australian_rain_df, 0.35)"
   ]
  },
  {
   "cell_type": "markdown",
   "metadata": {},
   "source": [
    "For the remaining columns with missing values if it's a categorical column we get the mode per location, year and month. If it is numeric column we get the median per location, year and month. After, We will enforce if there was no rain today then Rainfall equals 0."
   ]
  },
  {
   "cell_type": "code",
   "execution_count": 25,
   "metadata": {
    "scrolled": true
   },
   "outputs": [],
   "source": [
    "australian_rain_df = wrapper_median_mode_df(australian_rain_df)\n",
    "australian_rain_df = if_no_rainToday_zero_rainfall(australian_rain_df)"
   ]
  },
  {
   "cell_type": "code",
   "execution_count": 26,
   "metadata": {},
   "outputs": [],
   "source": [
    "df = australian_rain_df"
   ]
  },
  {
   "cell_type": "markdown",
   "metadata": {},
   "source": [
    "### Exploration"
   ]
  },
  {
   "cell_type": "code",
   "execution_count": 27,
   "metadata": {},
   "outputs": [
    {
     "data": {
      "text/html": [
       "<div>\n",
       "<style scoped>\n",
       "    .dataframe tbody tr th:only-of-type {\n",
       "        vertical-align: middle;\n",
       "    }\n",
       "\n",
       "    .dataframe tbody tr th {\n",
       "        vertical-align: top;\n",
       "    }\n",
       "\n",
       "    .dataframe thead th {\n",
       "        text-align: right;\n",
       "    }\n",
       "</style>\n",
       "<table border=\"1\" class=\"dataframe\">\n",
       "  <thead>\n",
       "    <tr style=\"text-align: right;\">\n",
       "      <th></th>\n",
       "      <th>0</th>\n",
       "      <th>1</th>\n",
       "      <th>2</th>\n",
       "      <th>3</th>\n",
       "      <th>4</th>\n",
       "      <th>5</th>\n",
       "      <th>6</th>\n",
       "      <th>7</th>\n",
       "      <th>8</th>\n",
       "      <th>9</th>\n",
       "      <th>...</th>\n",
       "      <th>34</th>\n",
       "      <th>35</th>\n",
       "      <th>36</th>\n",
       "      <th>37</th>\n",
       "      <th>38</th>\n",
       "      <th>39</th>\n",
       "      <th>40</th>\n",
       "      <th>41</th>\n",
       "      <th>42</th>\n",
       "      <th>43</th>\n",
       "    </tr>\n",
       "  </thead>\n",
       "  <tbody>\n",
       "    <tr>\n",
       "      <th>Location</th>\n",
       "      <td>Adelaide</td>\n",
       "      <td>Albury</td>\n",
       "      <td>AliceSprings</td>\n",
       "      <td>BadgerysCreek</td>\n",
       "      <td>Ballarat</td>\n",
       "      <td>Bendigo</td>\n",
       "      <td>Brisbane</td>\n",
       "      <td>Cairns</td>\n",
       "      <td>Canberra</td>\n",
       "      <td>Cobar</td>\n",
       "      <td>...</td>\n",
       "      <td>Townsville</td>\n",
       "      <td>Tuggeranong</td>\n",
       "      <td>Uluru</td>\n",
       "      <td>WaggaWagga</td>\n",
       "      <td>Walpole</td>\n",
       "      <td>Watsonia</td>\n",
       "      <td>Williamtown</td>\n",
       "      <td>Witchcliffe</td>\n",
       "      <td>Wollongong</td>\n",
       "      <td>Woomera</td>\n",
       "    </tr>\n",
       "    <tr>\n",
       "      <th>0</th>\n",
       "      <td>3090</td>\n",
       "      <td>3011</td>\n",
       "      <td>3031</td>\n",
       "      <td>2837</td>\n",
       "      <td>3028</td>\n",
       "      <td>3034</td>\n",
       "      <td>3161</td>\n",
       "      <td>2988</td>\n",
       "      <td>3206</td>\n",
       "      <td>2905</td>\n",
       "      <td>...</td>\n",
       "      <td>3033</td>\n",
       "      <td>2998</td>\n",
       "      <td>1521</td>\n",
       "      <td>2976</td>\n",
       "      <td>2819</td>\n",
       "      <td>2999</td>\n",
       "      <td>2553</td>\n",
       "      <td>2676</td>\n",
       "      <td>2983</td>\n",
       "      <td>2990</td>\n",
       "    </tr>\n",
       "  </tbody>\n",
       "</table>\n",
       "<p>2 rows × 44 columns</p>\n",
       "</div>"
      ],
      "text/plain": [
       "                0       1             2              3         4        5   \\\n",
       "Location  Adelaide  Albury  AliceSprings  BadgerysCreek  Ballarat  Bendigo   \n",
       "0             3090    3011          3031           2837      3028     3034   \n",
       "\n",
       "                6       7         8      9   ...          34           35  \\\n",
       "Location  Brisbane  Cairns  Canberra  Cobar  ...  Townsville  Tuggeranong   \n",
       "0             3161    2988      3206   2905  ...        3033         2998   \n",
       "\n",
       "             36          37       38        39           40           41  \\\n",
       "Location  Uluru  WaggaWagga  Walpole  Watsonia  Williamtown  Witchcliffe   \n",
       "0          1521        2976     2819      2999         2553         2676   \n",
       "\n",
       "                  42       43  \n",
       "Location  Wollongong  Woomera  \n",
       "0               2983     2990  \n",
       "\n",
       "[2 rows x 44 columns]"
      ]
     },
     "execution_count": 27,
     "metadata": {},
     "output_type": "execute_result"
    }
   ],
   "source": [
    "# let's look at how many data points we have from each location\n",
    "# This might be important to decide on an appropriate threshold for train/test split and also \n",
    "# to understand where are our blinspots \n",
    "pd.DataFrame(australian_rain_df[['Year','Month', 'Day', 'Location']].groupby('Location').size()).reset_index().transpose()"
   ]
  },
  {
   "cell_type": "markdown",
   "metadata": {},
   "source": [
    "<h1 style=\"color:blue;\"> USER INPUT -  Change location/month to see other distributions  </h1>"
   ]
  },
  {
   "cell_type": "code",
   "execution_count": 28,
   "metadata": {},
   "outputs": [],
   "source": [
    "loc = 'Adelaide'\n",
    "mon = 4"
   ]
  },
  {
   "cell_type": "markdown",
   "metadata": {},
   "source": [
    "##### For numeric variables let's plot boxplots per location and month"
   ]
  },
  {
   "cell_type": "code",
   "execution_count": 29,
   "metadata": {},
   "outputs": [],
   "source": [
    "numeric_cols = australian_rain_df.columns[australian_rain_df.dtypes == 'float64']\n",
    "cat_cols = australian_rain_df.columns[australian_rain_df.dtypes == 'object'][1:]"
   ]
  },
  {
   "cell_type": "code",
   "execution_count": 30,
   "metadata": {
    "scrolled": false
   },
   "outputs": [
    {
     "data": {
      "text/plain": [
       "<AxesSubplot:title={'center':'WindGustSpeed'}, xlabel='[Month]'>"
      ]
     },
     "execution_count": 30,
     "metadata": {},
     "output_type": "execute_result"
    },
    {
     "data": {
      "image/png": "[encoded data removed]",
      "text/plain": [
       "<Figure size 432x288 with 1 Axes>"
      ]
     },
     "metadata": {
      "needs_background": "light"
     },
     "output_type": "display_data"
    }
   ],
   "source": [
    "# for num_var in numeric_cols:\n",
    "df[df['Location'] == loc].boxplot(column='WindGustSpeed', by =['Month'])"
   ]
  },
  {
   "cell_type": "markdown",
   "metadata": {},
   "source": [
    "##### Let's explore the correlations between variable pairs"
   ]
  },
  {
   "cell_type": "code",
   "execution_count": null,
   "metadata": {},
   "outputs": [],
   "source": [
    "sns.pairplot(df)"
   ]
  },
  {
   "cell_type": "markdown",
   "metadata": {},
   "source": [
    "##### For categorical variables let's plot bar graphs "
   ]
  },
  {
   "cell_type": "code",
   "execution_count": null,
   "metadata": {},
   "outputs": [],
   "source": [
    "wind_gust_bar_data = australian_rain_df.loc[australian_rain_df['Location'] == loc, ['Location', 'WindGustDir', 'Month']].groupby(['WindGustDir','Month']).count().reset_index()\n",
    "wind_dir3pm_bar_data = australian_rain_df.loc[australian_rain_df['Location'] == loc, ['Location', 'WindDir3pm', 'Month']].groupby(['WindDir3pm','Month']).count().reset_index()\n",
    "wind_dir9am_bar_data = australian_rain_df.loc[australian_rain_df['Location'] == loc, ['Location', 'WindDir9am', 'Month']].groupby(['WindDir9am','Month']).count().reset_index()"
   ]
  },
  {
   "cell_type": "code",
   "execution_count": null,
   "metadata": {},
   "outputs": [],
   "source": [
    "fig, axes = plt.subplots(nrows=2, ncols=2 , figsize=(18, 11))\n",
    "plt.subplot(2, 2, 1)\n",
    "plt.bar(wind_gust_bar_data.loc[wind_gust_bar_data['Month'] == mon,'WindGustDir'], wind_gust_bar_data.loc[wind_gust_bar_data['Month'] == 4, 'Location'], color='b')\n",
    "plt.title('Count of wind direction gust at Adelaide during April')\n",
    "\n",
    "plt.subplot(2, 2, 2)\n",
    "plt.bar(wind_dir9am_bar_data.loc[wind_dir9am_bar_data ['Month'] == mon,'WindDir9am'], wind_dir9am_bar_data.loc[wind_dir9am_bar_data['Month'] == 4, 'Location'], color= 'g')\n",
    "plt.title('Count of wind direction 9am at Adelaide during April')\n",
    "\n",
    "plt.subplot(2, 2, 3)\n",
    "plt.bar(wind_dir3pm_bar_data.loc[wind_dir3pm_bar_data['Month'] == mon,'WindDir3pm'], wind_dir3pm_bar_data.loc[wind_dir3pm_bar_data['Month'] == 4, 'Location'], color= 'y')\n",
    "plt.title('Count of wind direction 3pm at Adelaide during April')\n",
    "\n",
    "fig.delaxes(axes[1][1])"
   ]
  },
  {
   "cell_type": "markdown",
   "metadata": {},
   "source": [
    "### Feature engineering"
   ]
  },
  {
   "cell_type": "code",
   "execution_count": null,
   "metadata": {},
   "outputs": [],
   "source": [
    "australian_rain_df = transform_to_dummies(australian_rain_df, list(cat_cols) + ['Location'])"
   ]
  },
  {
   "cell_type": "markdown",
   "metadata": {},
   "source": [
    "### Modelling - decision tree and random forest classifiers"
   ]
  },
  {
   "cell_type": "code",
   "execution_count": null,
   "metadata": {},
   "outputs": [],
   "source": [
    "def model():\n",
    "    feat_importance = {}\n",
    "    results = {'Model': ['-'], 'Training misclassification': ['-'], 'Test misclassification': ['-'], 'Runtime': ['-']}\n",
    "    results_pd = pd.DataFrame(data = results)\n",
    "    models = ['Tree', 'Random forest']\n",
    "    # split to training data and test data\n",
    "    tr_x, tr_y, te_x, te_y = tr_te_split(australian_rain_df, 'RainTomorrow', 'Year', 2014)\n",
    "    for kind in models:\n",
    "        start = time.time()\n",
    "        if kind == 'Tree':\n",
    "            model = tree.DecisionTreeClassifier()\n",
    "        else : \n",
    "            model = ensemble.RandomForestClassifier()\n",
    "        \n",
    "        model = model.fit(tr_x, tr_y)\n",
    "        predict_tr = model.predict(tr_x)\n",
    "        predict_te = model.predict(te_x)\n",
    "        tr_err, te_err = calc_misclass_error(predict_tr, tr_y), calc_misclass_error(predict_te, te_y)\n",
    "        feat_importance[kind] = model.feature_importances_\n",
    "        end = time.time()\n",
    "        runtime = round((end - start) / 60, 2)\n",
    "        \n",
    "        \n",
    "        \n",
    "        results_pd = results_pd.append(pd.DataFrame({'Model': [kind], 'Training misclassification': [str(round(tr_err, 2))], \n",
    "                                            'Test misclassification': [str(round(te_err, 2))], 'Runtime': [runtime]}))\n",
    "        \n",
    "    return feat_importance, results_pd"
   ]
  },
  {
   "cell_type": "markdown",
   "metadata": {},
   "source": [
    "### Evaluation"
   ]
  },
  {
   "cell_type": "code",
   "execution_count": null,
   "metadata": {},
   "outputs": [],
   "source": [
    "feat_importance, results_pd = model()"
   ]
  },
  {
   "cell_type": "code",
   "execution_count": null,
   "metadata": {},
   "outputs": [],
   "source": [
    "results_pd.reset_index(drop=True)"
   ]
  },
  {
   "cell_type": "code",
   "execution_count": null,
   "metadata": {},
   "outputs": [],
   "source": [
    "df = australian_rain_df.drop('RainTomorrow', axis=1)"
   ]
  },
  {
   "cell_type": "code",
   "execution_count": null,
   "metadata": {},
   "outputs": [],
   "source": [
    "print('The top three features for the decision tree model are:' + ' ' + ', '.join(list(df.columns[feat_importance['Tree'].argsort()[:3]])))\n",
    "print('The top three features for the Random Forest model are:' + ' ' + ', '.join(list(df.columns[feat_importance['Random forest'].argsort()[:3]])))"
   ]
  },
  {
   "cell_type": "markdown",
   "metadata": {},
   "source": [
    "### It seems like we have a major overfit here ! "
   ]
  }
 ],
 "metadata": {
  "kernelspec": {
   "display_name": "Python 3 (ipykernel)",
   "language": "python",
   "name": "python3"
  },
  "language_info": {
   "codemirror_mode": {
    "name": "ipython",
    "version": 3
   },
   "file_extension": ".py",
   "mimetype": "text/x-python",
   "name": "python",
   "nbconvert_exporter": "python",
   "pygments_lexer": "ipython3",
   "version": "3.9.12"
  }
 },
 "nbformat": 4,
 "nbformat_minor": 2
}
