{
 "cells": [
  {
   "cell_type": "markdown",
   "metadata": {},
   "source": [
    "#  *** DRAFT ***\n",
    "##### Author: Omer Nivron\n",
    "##### Date: 04/09/19\n",
    "#####  Data source: https://www.kaggle.com/jsphyg/weather-dataset-rattle-package "
   ]
  },
  {
   "cell_type": "code",
   "execution_count": 1,
   "metadata": {},
   "outputs": [
    {
     "ename": "ModuleNotFoundError",
     "evalue": "No module named 'aus_rain_cleanup'",
     "output_type": "error",
     "traceback": [
      "\u001b[1;31m---------------------------------------------------------------------------\u001b[0m",
      "\u001b[1;31mModuleNotFoundError\u001b[0m                       Traceback (most recent call last)",
      "Input \u001b[1;32mIn [1]\u001b[0m, in \u001b[0;36m<cell line: 1>\u001b[1;34m()\u001b[0m\n\u001b[1;32m----> 1\u001b[0m \u001b[38;5;28;01mfrom\u001b[39;00m \u001b[38;5;21;01maus_rain_cleanup\u001b[39;00m \u001b[38;5;28;01mimport\u001b[39;00m \u001b[38;5;241m*\u001b[39m\n\u001b[0;32m      2\u001b[0m \u001b[38;5;28;01mfrom\u001b[39;00m \u001b[38;5;21;01maus_rain_feat_eng\u001b[39;00m \u001b[38;5;28;01mimport\u001b[39;00m \u001b[38;5;241m*\u001b[39m\n\u001b[0;32m      3\u001b[0m \u001b[38;5;28;01mfrom\u001b[39;00m \u001b[38;5;21;01maus_rain_modeling\u001b[39;00m \u001b[38;5;28;01mimport\u001b[39;00m \u001b[38;5;241m*\u001b[39m\n",
      "\u001b[1;31mModuleNotFoundError\u001b[0m: No module named 'aus_rain_cleanup'"
     ]
    }
   ],
   "source": [
    "from aus_rain_cleanup import *\n",
    "from aus_rain_feat_eng import *\n",
    "from aus_rain_modeling import *\n",
    "import seaborn as sns\n",
    "import matplotlib.pyplot as plt\n",
    "import warnings\n",
    "warnings.filterwarnings('ignore')"
   ]
  },
  {
   "cell_type": "code",
   "execution_count": null,
   "metadata": {},
   "outputs": [],
   "source": [
    "australian_rain_df = pd.read_csv('weatherAUS.csv')"
   ]
  },
  {
   "cell_type": "markdown",
   "metadata": {},
   "source": [
    "# Report - Australian rain prediction "
   ]
  },
  {
   "cell_type": "markdown",
   "metadata": {},
   "source": [
    "###### Results:    ~85% success rate in predicting tomorrow's rain outcome (still plenty of potential)\n",
    "####                      - The most important features to predict rain are locations and wind directions. Whether it rained today doesn't seem very important from the model (however it might just be correlated with another variable)"
   ]
  },
  {
   "cell_type": "markdown",
   "metadata": {},
   "source": [
    "### Heatmap of Rainfall in January 2010\n",
    "\n",
    "![Rainfall Map](rainfall_map.png)"
   ]
  },
  {
   "cell_type": "markdown",
   "metadata": {},
   "source": [
    "### Assumptions\n",
    " - Missing values are reasonably replaced by mode and median per month and location for categorical and numeric columns respictively \n",
    " - It is valid to drop columns with missing value share greater than 0.35\n",
    " - Inheirt Tree model assumptions"
   ]
  },
  {
   "cell_type": "markdown",
   "metadata": {},
   "source": [
    "### Open issues/ problems"
   ]
  },
  {
   "cell_type": "markdown",
   "metadata": {},
   "source": [
    "- Model is overfitting: learning can't generalize well to new data  "
   ]
  },
  {
   "cell_type": "markdown",
   "metadata": {},
   "source": [
    "### Analysis method explained"
   ]
  },
  {
   "cell_type": "markdown",
   "metadata": {},
   "source": [
    "The analysis included cleaning data with the main issue being plenty missing values; Grouping by year, month and location, the median was used for numeric columns since it's more reliable when data isn't symmetric; The mode was used for categorical columns. Other cleaning procedures included formating (e.g. string to date). I then transformed categorical variables to one-hot encodings since the model can't handle strings. Then I split the data to training data (everything prior to 2015) and test data that was never seen by the model (2015 onwards) and is used to asses results on unseen data. After all data was model ready I ran it once with a decision tree model and a random forest model. Currently our metric is misclassification rate: how many times our model got it wrong divided by size of data (this metric might be misleading and future work should consider other options)   "
   ]
  },
  {
   "cell_type": "markdown",
   "metadata": {},
   "source": [
    "##### Why did I choose the tree based models for the task ? "
   ]
  },
  {
   "cell_type": "markdown",
   "metadata": {},
   "source": [
    "- Can deal better than other models with missing values (depending implementation)\n",
    "- No need to normalize data or make any transformations\n",
    "- Quick predictions \n",
    "- Robust to outliers\n",
    "- Easy interpretability (variable importance and selection)\n",
    "- Empirically strong results "
   ]
  },
  {
   "cell_type": "markdown",
   "metadata": {},
   "source": [
    "### Run analysis"
   ]
  },
  {
   "cell_type": "code",
   "execution_count": null,
   "metadata": {},
   "outputs": [],
   "source": [
    "####### Cleanup #######\n",
    "cat_cols, num_cols, australian_rain_df = cleanup(australian_rain_df)\n",
    "df = australian_rain_df\n",
    "######\n",
    "###### Feature engineering ######\n",
    "australian_rain_df = transform_to_dummies(australian_rain_df, list(cat_cols) + ['Location'])\n",
    "######\n",
    "###### Modelling ######\n",
    "feat_importance, results_pd = model(australian_rain_df)\n",
    "######"
   ]
  },
  {
   "cell_type": "markdown",
   "metadata": {},
   "source": [
    "### Plots"
   ]
  },
  {
   "cell_type": "markdown",
   "metadata": {},
   "source": [
    "<h3 style=\"color:blue;\"> USER INPUT -  Change location/month to see other distributions  </h3>"
   ]
  },
  {
   "cell_type": "code",
   "execution_count": null,
   "metadata": {},
   "outputs": [],
   "source": [
    "loc = 'Adelaide'\n",
    "mon = 4"
   ]
  },
  {
   "cell_type": "markdown",
   "metadata": {},
   "source": [
    "# Move Graph Code Below to Function Notebook?"
   ]
  },
  {
   "cell_type": "code",
   "execution_count": null,
   "metadata": {},
   "outputs": [],
   "source": [
    "# Example distribution to why we use the median as a missing value replacement \n",
    "boxprops = dict(color='b')\n",
    "medianprops = dict(color='b')\n",
    "\n",
    "\n",
    "\n",
    "bp = df[df['Location'] == loc].boxplot(column='WindGustSpeed', by =['Month'], figsize = (12, 5), \n",
    "                                      boxprops = boxprops, medianprops = medianprops, return_type = 'dict')\n",
    "\n",
    "plt.ylabel('Wind Speed (km / h)', fontsize = 16)\n",
    "plt.xlabel('Month', fontsize = 14)\n",
    "plt.xticks(list(range(1,13)), ['Jan', 'Feb', 'Mar', 'Apr', 'May', 'June', 'July', 'Aug', 'Sep', 'Oct', 'Nov', 'Dec'])\n",
    "plt.suptitle('')\n",
    "plt.title('Wind Speed by Month in Adelaide', fontsize = 20)\n",
    "\n",
    "[[item.set_color('b') for item in bp[key]['boxes']] for key in bp.keys()]\n",
    "[[item.set_color('b') for item in bp[key]['fliers']] for key in bp.keys()]\n",
    "[[item.set_color('b') for item in bp[key]['medians']] for key in bp.keys()]\n",
    "[[item.set_markerfacecolor('b') for item in bp[key]['means']] for key in bp.keys()]\n",
    "[[item.set_color('b') for item in bp[key]['whiskers']] for key in bp.keys()]\n",
    "[[item.set_color('b') for item in bp[key]['caps']] for key in bp.keys()]"
   ]
  },
  {
   "cell_type": "markdown",
   "metadata": {},
   "source": [
    "#### Important correlations"
   ]
  },
  {
   "cell_type": "code",
   "execution_count": null,
   "metadata": {},
   "outputs": [],
   "source": [
    "fig, axes = plt.subplots(nrows=2, ncols=2 , figsize=(18, 11))\n",
    "plt.subplot(2, 2, 1)\n",
    "plt.scatter(df.loc[:,'Pressure9am'], df.loc[:, 'Pressure3pm'], color='b')\n",
    "plt.title('Correlation plot between air pressure at 9am (x) to air pressure at 3pm (y)')\n",
    "\n",
    "plt.subplot(2, 2, 2)\n",
    "plt.scatter(df.loc[:,'Humidity9am'], df.loc[:, 'Rainfall'], color='g')\n",
    "plt.title('Correlation plot between humidity (x) at 9am to rainfall (y)')\n",
    "\n",
    "plt.subplot(2, 2, 3)\n",
    "plt.scatter(df.loc[:,'Humidity9am'], df.loc[:, 'Temp9am'], color='y')\n",
    "plt.title('Correlation plot between humidity (x) to temperture at 9am (y)')\n",
    "\n",
    "plt.subplot(2, 2, 4)\n",
    "plt.scatter(df.loc[:,'Temp3pm'], df.loc[:, 'MaxTemp'], color='r')\n",
    "plt.title('Correlation plot between temperture (x) at 3pm to max temperture (y)')"
   ]
  },
  {
   "cell_type": "markdown",
   "metadata": {},
   "source": [
    "#### Categorical varibales"
   ]
  },
  {
   "cell_type": "code",
   "execution_count": null,
   "metadata": {},
   "outputs": [],
   "source": [
    "wind_gust_bar_data = df.loc[df['Location'] == loc, ['Location', 'WindGustDir', 'Month']].groupby(['WindGustDir','Month']).count().reset_index()\n",
    "wind_dir3pm_bar_data = df.loc[df['Location'] == loc, ['Location', 'WindDir3pm', 'Month']].groupby(['WindDir3pm','Month']).count().reset_index()\n",
    "wind_dir9am_bar_data = df.loc[df['Location'] == loc, ['Location', 'WindDir9am', 'Month']].groupby(['WindDir9am','Month']).count().reset_index()"
   ]
  },
  {
   "cell_type": "code",
   "execution_count": null,
   "metadata": {},
   "outputs": [],
   "source": [
    "fig, axes = plt.subplots(nrows=2, ncols=2 , figsize=(18, 11))\n",
    "plt.subplot(2, 2, 1)\n",
    "plt.bar(wind_gust_bar_data.loc[wind_gust_bar_data['Month'] == mon,'WindGustDir'], wind_gust_bar_data.loc[wind_gust_bar_data['Month'] == 4, 'Location'].sort_values(ascending = False), color='b')\n",
    "plt.title('Count of wind direction gust at Adelaide during April')\n",
    "\n",
    "plt.subplot(2, 2, 2)\n",
    "plt.bar(wind_dir9am_bar_data.loc[wind_dir9am_bar_data ['Month'] == mon,'WindDir9am'], wind_dir9am_bar_data.loc[wind_dir9am_bar_data['Month'] == 4, 'Location'].sort_values(ascending = False), color= 'g')\n",
    "plt.title('Count of wind direction 9am at Adelaide during April')\n",
    "\n",
    "plt.subplot(2, 2, 3)\n",
    "plt.bar(wind_dir3pm_bar_data.loc[wind_dir3pm_bar_data['Month'] == mon,'WindDir3pm'], wind_dir3pm_bar_data.loc[wind_dir3pm_bar_data['Month'] == 4, 'Location'].sort_values(ascending = False), color= 'y')\n",
    "plt.title('Count of wind direction 3pm at Adelaide during April')\n",
    "\n",
    "fig.delaxes(axes[1][1])"
   ]
  },
  {
   "cell_type": "markdown",
   "metadata": {},
   "source": [
    "# Model results"
   ]
  },
  {
   "cell_type": "code",
   "execution_count": null,
   "metadata": {},
   "outputs": [],
   "source": [
    "results_pd.reset_index(drop=True)"
   ]
  },
  {
   "cell_type": "markdown",
   "metadata": {},
   "source": [
    "### To do's "
   ]
  },
  {
   "cell_type": "markdown",
   "metadata": {},
   "source": [
    " - Exploration:\n",
    "1. Check for areas where it never rains and drop from dataset \n",
    "2. Check the correlations of variables with rain today status \n",
    " \n",
    "        \n",
    " - Model : \n",
    "1. Add a baseline model for comparison \n",
    "2. Hyperparameter optimization\n",
    "3. Consider logistic regression model\n",
    "4. Balance data (sampling)\n",
    "5. Add true-pos and false-pos metrics\n",
    "6. Add ROC curve\n"
   ]
  }
 ],
 "metadata": {
  "kernelspec": {
   "display_name": "Python 3 (ipykernel)",
   "language": "python",
   "name": "python3"
  },
  "language_info": {
   "codemirror_mode": {
    "name": "ipython",
    "version": 3
   },
   "file_extension": ".py",
   "mimetype": "text/x-python",
   "name": "python",
   "nbconvert_exporter": "python",
   "pygments_lexer": "ipython3",
   "version": "3.9.12"
  }
 },
 "nbformat": 4,
 "nbformat_minor": 2
}
