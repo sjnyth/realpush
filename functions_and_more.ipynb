{
 "cells": [
  {
   "cell_type": "markdown",
   "id": "f2e46cd3",
   "metadata": {},
   "source": [
    "# *Range"
   ]
  },
  {
   "cell_type": "code",
   "execution_count": null,
   "id": "0feca2d9",
   "metadata": {},
   "outputs": [],
   "source": [
    "range(1,11) #11 is excluded, 1 is included\n",
    "#this will return 1,2,3,4,5,6,7,8,9,10"
   ]
  },
  {
   "cell_type": "code",
   "execution_count": null,
   "id": "ba7d6ce2",
   "metadata": {},
   "outputs": [],
   "source": [
    "range (1,11,2) #this will return 1,3,5,7,9"
   ]
  },
  {
   "cell_type": "code",
   "execution_count": null,
   "id": "9bd4ab0a",
   "metadata": {},
   "outputs": [],
   "source": [
    "for num in range (1,11):\n",
    "    print(num)"
   ]
  },
  {
   "cell_type": "code",
   "execution_count": null,
   "id": "b088a076",
   "metadata": {},
   "outputs": [],
   "source": [
    "for _ in range (1,11): #dont miss the colon\n",
    "    print(_)"
   ]
  },
  {
   "cell_type": "code",
   "execution_count": null,
   "id": "9cc398e8",
   "metadata": {},
   "outputs": [],
   "source": [
    "for num in range (1,11,2):\n",
    "    print(num**2)\n"
   ]
  },
  {
   "cell_type": "code",
   "execution_count": null,
   "id": "762f9dc6",
   "metadata": {},
   "outputs": [],
   "source": [
    "for num in range(1,11,3):\n",
    "    if num % 2 == 0:\n",
    "        print('even number') #mind the identation\n",
    "    else:\n",
    "            print('odd number')\n",
    "        "
   ]
  },
  {
   "cell_type": "markdown",
   "id": "a3234539",
   "metadata": {},
   "source": [
    "# *while loop "
   ]
  },
  {
   "cell_type": "code",
   "execution_count": 1,
   "id": "1ebd392d",
   "metadata": {},
   "outputs": [
    {
     "name": "stdout",
     "output_type": "stream",
     "text": [
      "1\n",
      "2\n",
      "3\n",
      "4\n",
      "5\n",
      "6\n",
      "7\n",
      "8\n",
      "9\n",
      "10\n"
     ]
    }
   ],
   "source": [
    "num = 1 \n",
    "while num <11: \n",
    "    print(num)\n",
    "    num = num + 1 \n",
    "    #num "
   ]
  },
  {
   "cell_type": "code",
   "execution_count": 2,
   "id": "e89ecff3",
   "metadata": {},
   "outputs": [
    {
     "name": "stdout",
     "output_type": "stream",
     "text": [
      "odd number\n",
      "even number\n",
      "odd number\n",
      "even number\n",
      "odd number\n",
      "even number\n",
      "odd number\n",
      "even number\n",
      "odd number\n",
      "even number\n"
     ]
    }
   ],
   "source": [
    "num = 1 \n",
    "while num <11:\n",
    "  if num % 2 != 0:\n",
    "    print('odd number')\n",
    "  else:\n",
    "    print('even number')\n",
    "  num = num + 1"
   ]
  },
  {
   "cell_type": "markdown",
   "id": "bc4ab378",
   "metadata": {},
   "source": [
    "# *List comprehension"
   ]
  },
  {
   "cell_type": "code",
   "execution_count": 8,
   "id": "81885f61",
   "metadata": {},
   "outputs": [
    {
     "name": "stdout",
     "output_type": "stream",
     "text": [
      "odd number\n",
      "odd number\n",
      "odd number\n"
     ]
    }
   ],
   "source": [
    "for num in range (1,11,4):\n",
    "    if num % 2 == 0:\n",
    "        print('even number')\n",
    "    else:\n",
    "        print('odd number')\n",
    "    \n",
    "    "
   ]
  },
  {
   "cell_type": "code",
   "execution_count": 7,
   "id": "3cb917ea",
   "metadata": {},
   "outputs": [
    {
     "name": "stdout",
     "output_type": "stream",
     "text": [
      "even number\n",
      "odd number\n",
      "even number\n",
      "odd number\n",
      "even number\n",
      "odd number\n",
      "even number\n",
      "odd number\n",
      "even number\n",
      "odd number\n",
      "even number\n"
     ]
    },
    {
     "data": {
      "text/plain": [
       "[None, None, None, None, None, None, None, None, None, None, None]"
      ]
     },
     "execution_count": 7,
     "metadata": {},
     "output_type": "execute_result"
    }
   ],
   "source": [
    "[print('even number') if num % 2 == 0 else print('odd number') for num in  range (11)]"
   ]
  },
  {
   "cell_type": "code",
   "execution_count": 6,
   "id": "3aa5e055",
   "metadata": {},
   "outputs": [
    {
     "name": "stdout",
     "output_type": "stream",
     "text": [
      "[]\n",
      "[]\n",
      "[]\n",
      "[]\n",
      "[]\n",
      "[]\n",
      "[]\n",
      "[]\n",
      "[]\n",
      "[]\n"
     ]
    }
   ],
   "source": [
    "my_list= []\n",
    "for num in range (1,11,1):\n",
    "    my_list.append\n",
    "    num =+ 1\n",
    "    print(my_list)"
   ]
  },
  {
   "cell_type": "code",
   "execution_count": 4,
   "id": "440ea86e",
   "metadata": {},
   "outputs": [
    {
     "data": {
      "text/plain": [
       "[0, 1, 4, 9, 16, 25, 36, 49, 64, 81, 100]"
      ]
     },
     "execution_count": 4,
     "metadata": {},
     "output_type": "execute_result"
    }
   ],
   "source": [
    "[num**2 for num in range(11)]"
   ]
  },
  {
   "cell_type": "code",
   "execution_count": 7,
   "id": "4464ece6",
   "metadata": {},
   "outputs": [
    {
     "data": {
      "text/plain": [
       "[[0, 3, 6, 9], [0, 3, 6, 9], [0, 3, 6, 9], [0, 3, 6, 9], [0, 3, 6, 9]]"
      ]
     },
     "execution_count": 7,
     "metadata": {},
     "output_type": "execute_result"
    }
   ],
   "source": [
    "[[num*3 for num in range (4)] for num in range (5)]"
   ]
  },
  {
   "cell_type": "markdown",
   "id": "f2309616",
   "metadata": {},
   "source": [
    "# Dictionary Comprehension"
   ]
  },
  {
   "cell_type": "code",
   "execution_count": 9,
   "id": "67e93ebc",
   "metadata": {},
   "outputs": [],
   "source": [
    "name = ['Moussa','Sall','Idris','George']"
   ]
  },
  {
   "cell_type": "code",
   "execution_count": 13,
   "id": "63548448",
   "metadata": {},
   "outputs": [],
   "source": [
    "dico = {k:v for k, v in enumerate(name)}"
   ]
  },
  {
   "cell_type": "code",
   "execution_count": 14,
   "id": "b68165ac",
   "metadata": {},
   "outputs": [
    {
     "data": {
      "text/plain": [
       "{0: 'Moussa', 1: 'Sall', 2: 'Idris', 3: 'George'}"
      ]
     },
     "execution_count": 14,
     "metadata": {},
     "output_type": "execute_result"
    }
   ],
   "source": [
    "dico"
   ]
  },
  {
   "cell_type": "code",
   "execution_count": 23,
   "id": "191e0cac",
   "metadata": {},
   "outputs": [],
   "source": [
    "gpa = [4,3.9,3.8,3.5]"
   ]
  },
  {
   "cell_type": "code",
   "execution_count": 27,
   "id": "ee6a5e57",
   "metadata": {},
   "outputs": [
    {
     "data": {
      "text/plain": [
       "{'Moussa': 4, 'Sall': 3.9, 'Idris': 3.8, 'George': 3.5}"
      ]
     },
     "execution_count": 27,
     "metadata": {},
     "output_type": "execute_result"
    }
   ],
   "source": [
    "name_gpg = {k:v for k,v in zip(name,gpa)}\n",
    "name_gpg"
   ]
  },
  {
   "cell_type": "markdown",
   "id": "7b269d9d",
   "metadata": {},
   "source": [
    "Example: dictonary comprehension"
   ]
  },
  {
   "cell_type": "code",
   "execution_count": 26,
   "id": "064ac48b",
   "metadata": {},
   "outputs": [],
   "source": [
    "whips = ['buggati', 'lambo', 'royce', 'mustang', 'aston martin']"
   ]
  },
  {
   "cell_type": "code",
   "execution_count": 28,
   "id": "b7cfc4fe",
   "metadata": {},
   "outputs": [],
   "source": [
    "dico = {k:v for k, v in enumerate(whips)}"
   ]
  },
  {
   "cell_type": "code",
   "execution_count": 29,
   "id": "969ab8f9",
   "metadata": {},
   "outputs": [
    {
     "data": {
      "text/plain": [
       "{0: 'buggati', 1: 'lambo', 2: 'royce', 3: 'mustang', 4: 'aston martin'}"
      ]
     },
     "execution_count": 29,
     "metadata": {},
     "output_type": "execute_result"
    }
   ],
   "source": [
    "dico"
   ]
  },
  {
   "cell_type": "code",
   "execution_count": 30,
   "id": "e39751b1",
   "metadata": {},
   "outputs": [],
   "source": [
    "make = [2018, 2021, 1992, 1999, 2013]"
   ]
  },
  {
   "cell_type": "code",
   "execution_count": 36,
   "id": "6fae725d",
   "metadata": {},
   "outputs": [
    {
     "data": {
      "text/plain": [
       "{'buggati': 2018,\n",
       " 'lambo': 2021,\n",
       " 'royce': 1992,\n",
       " 'mustang': 1999,\n",
       " 'aston martin': 2013}"
      ]
     },
     "execution_count": 36,
     "metadata": {},
     "output_type": "execute_result"
    }
   ],
   "source": [
    "whips_gpg = {k:v for k,v in zip(whips,make)}\n",
    "whips_gpg"
   ]
  },
  {
   "cell_type": "markdown",
   "id": "94a41169",
   "metadata": {},
   "source": []
  },
  {
   "cell_type": "code",
   "execution_count": 39,
   "id": "49257959",
   "metadata": {},
   "outputs": [],
   "source": [
    "milage = [2,4,6,10,9]"
   ]
  },
  {
   "cell_type": "code",
   "execution_count": 42,
   "id": "6d3ebe2b",
   "metadata": {},
   "outputs": [
    {
     "data": {
      "text/plain": [
       "{'buggati': 2018,\n",
       " 'lambo': 2021,\n",
       " 'royce': 1992,\n",
       " 'mustang': 1999,\n",
       " 'aston martin': 2013}"
      ]
     },
     "execution_count": 42,
     "metadata": {},
     "output_type": "execute_result"
    }
   ],
   "source": [
    "whips_gpg = {k:v for k,v in zip(whips,make)}\n",
    "whips_gpg"
   ]
  },
  {
   "cell_type": "code",
   "execution_count": 43,
   "id": "894884f9",
   "metadata": {},
   "outputs": [],
   "source": [
    "def square_root_func(num):\n",
    "    result = num**0.5\n",
    "    return result"
   ]
  },
  {
   "cell_type": "code",
   "execution_count": 44,
   "id": "7846dd7b",
   "metadata": {},
   "outputs": [
    {
     "data": {
      "text/plain": [
       "1.4142135623730951"
      ]
     },
     "execution_count": 44,
     "metadata": {},
     "output_type": "execute_result"
    }
   ],
   "source": [
    "square_root_func(2)"
   ]
  },
  {
   "cell_type": "code",
   "execution_count": 45,
   "id": "df547ea9",
   "metadata": {},
   "outputs": [
    {
     "name": "stdout",
     "output_type": "stream",
     "text": [
      "[1, 4, 9, 16, 25, 36, 49, 64, 81, 100]\n"
     ]
    }
   ],
   "source": [
    "my_list = []\n",
    "for num in range(1,11,1):\n",
    "    my_list.append(num**2)\n",
    "    num += 1\n",
    "print(my_list)"
   ]
  },
  {
   "cell_type": "code",
   "execution_count": 47,
   "id": "a307654c",
   "metadata": {},
   "outputs": [],
   "source": [
    "def square_func(val):\n",
    "    my_list = []\n",
    "    for val in range (1,11):\n",
    "        my_list.append(val**2)\n",
    "        val= val +1\n",
    "        return my_list"
   ]
  },
  {
   "cell_type": "code",
   "execution_count": 2,
   "id": "0dfdacde",
   "metadata": {},
   "outputs": [],
   "source": [
    "mylist = [2,-5,10,8,4,2,9,6,3,-93,0.4]"
   ]
  },
  {
   "cell_type": "code",
   "execution_count": 3,
   "id": "68c9d827",
   "metadata": {},
   "outputs": [
    {
     "data": {
      "text/plain": [
       "[(0, 2),\n",
       " (1, -5),\n",
       " (2, 10),\n",
       " (3, 8),\n",
       " (4, 4),\n",
       " (5, 2),\n",
       " (6, 9),\n",
       " (7, 6),\n",
       " (8, 3),\n",
       " (9, -93),\n",
       " (10, 0.4)]"
      ]
     },
     "execution_count": 3,
     "metadata": {},
     "output_type": "execute_result"
    }
   ],
   "source": [
    "list(enumerate(mylist))"
   ]
  },
  {
   "cell_type": "code",
   "execution_count": 6,
   "id": "78af52e1",
   "metadata": {},
   "outputs": [],
   "source": [
    "def replace_by_zero(mylist):\n",
    "    for idx, num in enumerate(mylist):\n",
    "        if num<0:\n",
    "            mylist[idx]=0\n",
    "            return mylist"
   ]
  },
  {
   "cell_type": "code",
   "execution_count": 7,
   "id": "dd370b40",
   "metadata": {},
   "outputs": [
    {
     "data": {
      "text/plain": [
       "[2, -5, 10, 8, 4, 2, 9, 6, 3, -93, 0.4]"
      ]
     },
     "execution_count": 7,
     "metadata": {},
     "output_type": "execute_result"
    }
   ],
   "source": [
    "mylist"
   ]
  },
  {
   "cell_type": "code",
   "execution_count": 8,
   "id": "d16259a7",
   "metadata": {},
   "outputs": [
    {
     "data": {
      "text/plain": [
       "[2, 0, 10, 8, 4, 2, 9, 6, 3, -93, 0.4]"
      ]
     },
     "execution_count": 8,
     "metadata": {},
     "output_type": "execute_result"
    }
   ],
   "source": [
    "replace_by_zero(mylist)"
   ]
  },
  {
   "cell_type": "code",
   "execution_count": 13,
   "id": "bb93cb98",
   "metadata": {},
   "outputs": [],
   "source": [
    "# 7 = 7x6x5x4x3x2x1\n",
    "def factorial_func(num):\n",
    "    p = 1\n",
    "    i = 1\n",
    "    while i <= num:\n",
    "        p *= i\n",
    "        i += 1\n",
    "    return p\n",
    "    "
   ]
  },
  {
   "cell_type": "code",
   "execution_count": 16,
   "id": "a9ca5cda",
   "metadata": {},
   "outputs": [
    {
     "data": {
      "text/plain": [
       "1"
      ]
     },
     "execution_count": 16,
     "metadata": {},
     "output_type": "execute_result"
    }
   ],
   "source": [
    "factorial_func(4)"
   ]
  },
  {
   "cell_type": "markdown",
   "id": "0f6ac253",
   "metadata": {},
   "source": [
    "# Lambda Expression"
   ]
  },
  {
   "cell_type": "code",
   "execution_count": 17,
   "id": "6ae8e13a",
   "metadata": {},
   "outputs": [],
   "source": [
    "def squares(num):\n",
    "    result = num**2\n",
    "    return result"
   ]
  },
  {
   "cell_type": "code",
   "execution_count": 18,
   "id": "85deae4f",
   "metadata": {},
   "outputs": [
    {
     "data": {
      "text/plain": [
       "4096"
      ]
     },
     "execution_count": 18,
     "metadata": {},
     "output_type": "execute_result"
    }
   ],
   "source": [
    "squares(64)"
   ]
  },
  {
   "cell_type": "code",
   "execution_count": 19,
   "id": "7177e376",
   "metadata": {},
   "outputs": [],
   "source": [
    "l = lambda num: num**2"
   ]
  },
  {
   "cell_type": "code",
   "execution_count": 25,
   "id": "1f5296e2",
   "metadata": {},
   "outputs": [
    {
     "data": {
      "text/plain": [
       "36"
      ]
     },
     "execution_count": 25,
     "metadata": {},
     "output_type": "execute_result"
    }
   ],
   "source": [
    "l(6)"
   ]
  },
  {
   "cell_type": "code",
   "execution_count": 21,
   "id": "f199f027",
   "metadata": {},
   "outputs": [],
   "source": [
    "ano_list = [1,4,5,12,43,8,9,22,53]"
   ]
  },
  {
   "cell_type": "code",
   "execution_count": 24,
   "id": "3e55e95a",
   "metadata": {},
   "outputs": [
    {
     "data": {
      "text/plain": [
       "[1, 16, 25, 144, 1849, 64, 81, 484, 2809]"
      ]
     },
     "execution_count": 24,
     "metadata": {},
     "output_type": "execute_result"
    }
   ],
   "source": [
    "list(map(l, ano_list))"
   ]
  },
  {
   "cell_type": "code",
   "execution_count": 29,
   "id": "f2c6dd02",
   "metadata": {},
   "outputs": [
    {
     "data": {
      "text/plain": [
       "[1, 5, 43, 9, 53]"
      ]
     },
     "execution_count": 29,
     "metadata": {},
     "output_type": "execute_result"
    }
   ],
   "source": [
    "list(filter(lambda num: num % 2 != 0, ano_list)) #i dont understand filter"
   ]
  },
  {
   "cell_type": "code",
   "execution_count": 30,
   "id": "e4b8fc3f",
   "metadata": {},
   "outputs": [],
   "source": [
    "tj_list = [2,12,-3,-5,17,22.0,99,-88]\n",
    "#use map to replace the odd numbers by 0\n",
    "#use filter to return the non-negative number only"
   ]
  },
  {
   "cell_type": "code",
   "execution_count": 31,
   "id": "e1ba882d",
   "metadata": {},
   "outputs": [],
   "source": [
    "repl = [0]"
   ]
  },
  {
   "cell_type": "code",
   "execution_count": 33,
   "id": "ffe6f4d2",
   "metadata": {},
   "outputs": [
    {
     "ename": "SyntaxError",
     "evalue": "invalid syntax (495754607.py, line 2)",
     "output_type": "error",
     "traceback": [
      "\u001b[1;36m  Input \u001b[1;32mIn [33]\u001b[1;36m\u001b[0m\n\u001b[1;33m    for i in the range(len(alist)):\u001b[0m\n\u001b[1;37m                 ^\u001b[0m\n\u001b[1;31mSyntaxError\u001b[0m\u001b[1;31m:\u001b[0m invalid syntax\n"
     ]
    }
   ],
   "source": [
    "def range (alist):\n",
    "    for i in the range(len(alist)):\n",
    "        if alist[i] %2 != 0:\n",
    "            alist[i] = 0\n",
    "    return alist"
   ]
  },
  {
   "cell_type": "code",
   "execution_count": 1,
   "id": "65458e3b",
   "metadata": {},
   "outputs": [
    {
     "ename": "SyntaxError",
     "evalue": "invalid syntax (3479432551.py, line 1)",
     "output_type": "error",
     "traceback": [
      "\u001b[1;36m  Input \u001b[1;32mIn [1]\u001b[1;36m\u001b[0m\n\u001b[1;33m    [alist if alist[i] % 2 != 0 for i in range(len(alist))]\u001b[0m\n\u001b[1;37m                                ^\u001b[0m\n\u001b[1;31mSyntaxError\u001b[0m\u001b[1;31m:\u001b[0m invalid syntax\n"
     ]
    }
   ],
   "source": [
    "[alist if alist[i] % 2 != 0 for i in range(len(alist))]\n"
   ]
  },
  {
   "cell_type": "code",
   "execution_count": 3,
   "id": "d936d2c9",
   "metadata": {},
   "outputs": [
    {
     "data": {
      "text/plain": [
       "[0, 1, 2, 3, 4]"
      ]
     },
     "execution_count": 3,
     "metadata": {},
     "output_type": "execute_result"
    }
   ],
   "source": [
    "seq = [i for i in range (5)]\n",
    "seq"
   ]
  },
  {
   "cell_type": "code",
   "execution_count": 4,
   "id": "16891558",
   "metadata": {},
   "outputs": [],
   "source": [
    "l = lambda x: x.split('@')[0]"
   ]
  },
  {
   "cell_type": "code",
   "execution_count": 5,
   "id": "a6f6338c",
   "metadata": {},
   "outputs": [
    {
     "ename": "NameError",
     "evalue": "name 'saujanya' is not defined",
     "output_type": "error",
     "traceback": [
      "\u001b[1;31m---------------------------------------------------------------------------\u001b[0m",
      "\u001b[1;31mNameError\u001b[0m                                 Traceback (most recent call last)",
      "Input \u001b[1;32mIn [5]\u001b[0m, in \u001b[0;36m<cell line: 1>\u001b[1;34m()\u001b[0m\n\u001b[1;32m----> 1\u001b[0m \u001b[43msaujanya\u001b[49m\u001b[38;5;129m@outlook\u001b[39m\u001b[38;5;241m.\u001b[39mcom\n",
      "\u001b[1;31mNameError\u001b[0m: name 'saujanya' is not defined"
     ]
    }
   ],
   "source": [
    "saujanya@outlook.com"
   ]
  },
  {
   "cell_type": "code",
   "execution_count": null,
   "id": "2f28618c",
   "metadata": {},
   "outputs": [],
   "source": []
  }
 ],
 "metadata": {
  "kernelspec": {
   "display_name": "Python 3 (ipykernel)",
   "language": "python",
   "name": "python3"
  },
  "language_info": {
   "codemirror_mode": {
    "name": "ipython",
    "version": 3
   },
   "file_extension": ".py",
   "mimetype": "text/x-python",
   "name": "python",
   "nbconvert_exporter": "python",
   "pygments_lexer": "ipython3",
   "version": "3.9.12"
  }
 },
 "nbformat": 4,
 "nbformat_minor": 5
}
