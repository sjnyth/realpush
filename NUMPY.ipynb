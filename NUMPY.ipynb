{
 "cells": [
  {
   "cell_type": "code",
   "execution_count": 1,
   "id": "189ba893",
   "metadata": {},
   "outputs": [],
   "source": [
    "import numpy as np "
   ]
  },
  {
   "cell_type": "code",
   "execution_count": 4,
   "id": "bc346cc4",
   "metadata": {},
   "outputs": [
    {
     "data": {
      "text/plain": [
       "[0, 1, 2, 3, 4, 5, 6, 7, 8, 9]"
      ]
     },
     "execution_count": 4,
     "metadata": {},
     "output_type": "execute_result"
    }
   ],
   "source": [
    "my_list=[ i for i in range(10)]\n",
    "my_list"
   ]
  },
  {
   "cell_type": "code",
   "execution_count": 7,
   "id": "7c5b4d94",
   "metadata": {},
   "outputs": [
    {
     "data": {
      "text/plain": [
       "array([ 0,  1,  4,  9, 16, 25, 36, 49, 64, 81], dtype=int32)"
      ]
     },
     "execution_count": 7,
     "metadata": {},
     "output_type": "execute_result"
    }
   ],
   "source": [
    "my_array = np.array(mylist)\n",
    "my_array ** 2"
   ]
  },
  {
   "cell_type": "code",
   "execution_count": 8,
   "id": "2002fdda",
   "metadata": {},
   "outputs": [
    {
     "data": {
      "text/plain": [
       "array([[ 0,  1,  5],\n",
       "       [-2,  1,  4],\n",
       "       [ 7,  8,  9]])"
      ]
     },
     "execution_count": 8,
     "metadata": {},
     "output_type": "execute_result"
    }
   ],
   "source": [
    "mymatrix = np.array([[0,1,5],[-2,1,4],[7,8,9]])\n",
    "mymatrix"
   ]
  },
  {
   "cell_type": "code",
   "execution_count": 10,
   "id": "824c04f8",
   "metadata": {},
   "outputs": [
    {
     "data": {
      "text/plain": [
       "array([[ 0],\n",
       "       [-2],\n",
       "       [ 7]])"
      ]
     },
     "execution_count": 10,
     "metadata": {},
     "output_type": "execute_result"
    }
   ],
   "source": [
    " mymatrix[:,0:1]"
   ]
  },
  {
   "cell_type": "code",
   "execution_count": 15,
   "id": "b964008f",
   "metadata": {},
   "outputs": [
    {
     "data": {
      "text/plain": [
       "array([[1],\n",
       "       [1],\n",
       "       [8]])"
      ]
     },
     "execution_count": 15,
     "metadata": {},
     "output_type": "execute_result"
    }
   ],
   "source": [
    "mymatrix[0:3,1:2] #use colon for all rows"
   ]
  },
  {
   "cell_type": "code",
   "execution_count": 17,
   "id": "d26bdf1b",
   "metadata": {},
   "outputs": [
    {
     "data": {
      "text/plain": [
       "array([[5],\n",
       "       [4]])"
      ]
     },
     "execution_count": 17,
     "metadata": {},
     "output_type": "execute_result"
    }
   ],
   "source": [
    "mymatrix[0:2,2:3]"
   ]
  },
  {
   "cell_type": "code",
   "execution_count": 18,
   "id": "acf26c15",
   "metadata": {},
   "outputs": [
    {
     "data": {
      "text/plain": [
       "array([[ 0,  1,  5],\n",
       "       [-2,  1,  4],\n",
       "       [ 7,  8,  9]])"
      ]
     },
     "execution_count": 18,
     "metadata": {},
     "output_type": "execute_result"
    }
   ],
   "source": [
    "mymatrix[:,:]"
   ]
  },
  {
   "cell_type": "markdown",
   "id": "373e971e",
   "metadata": {},
   "source": [
    "# ARANGE"
   ]
  },
  {
   "cell_type": "code",
   "execution_count": 19,
   "id": "aeb22a95",
   "metadata": {},
   "outputs": [
    {
     "data": {
      "text/plain": [
       "array([0, 1, 2, 3, 4, 5, 6, 7, 8, 9])"
      ]
     },
     "execution_count": 19,
     "metadata": {},
     "output_type": "execute_result"
    }
   ],
   "source": [
    "myarange = np.arange(10)\n",
    "myarange"
   ]
  },
  {
   "cell_type": "code",
   "execution_count": 21,
   "id": "31f49d14",
   "metadata": {},
   "outputs": [
    {
     "data": {
      "text/plain": [
       "array([0, 2, 4, 6, 8])"
      ]
     },
     "execution_count": 21,
     "metadata": {},
     "output_type": "execute_result"
    }
   ],
   "source": [
    "myrangestep = np.arange(0,10,2)\n",
    "myrangestep"
   ]
  },
  {
   "cell_type": "markdown",
   "id": "744e85e3",
   "metadata": {},
   "source": [
    "# zeros and ones"
   ]
  },
  {
   "cell_type": "markdown",
   "id": "5254e053",
   "metadata": {},
   "source": [
    "generate arrays of zeros and ones, REQUIRES TUPLES TO PRINT"
   ]
  },
  {
   "cell_type": "code",
   "execution_count": 22,
   "id": "d15c4bd9",
   "metadata": {},
   "outputs": [
    {
     "data": {
      "text/plain": [
       "array([0., 0., 0., 0.])"
      ]
     },
     "execution_count": 22,
     "metadata": {},
     "output_type": "execute_result"
    }
   ],
   "source": [
    "Z = np.zeros(4)\n",
    "Z"
   ]
  },
  {
   "cell_type": "code",
   "execution_count": 24,
   "id": "190eb806",
   "metadata": {},
   "outputs": [
    {
     "data": {
      "text/plain": [
       "array([[0., 0., 0.],\n",
       "       [0., 0., 0.],\n",
       "       [0., 0., 0.]])"
      ]
     },
     "execution_count": 24,
     "metadata": {},
     "output_type": "execute_result"
    }
   ],
   "source": [
    "Z3 = np.zeros((3,3))\n",
    "Z3\n",
    "            "
   ]
  },
  {
   "cell_type": "code",
   "execution_count": 26,
   "id": "812fc9c5",
   "metadata": {},
   "outputs": [
    {
     "data": {
      "text/plain": [
       "array([1., 1., 1., 1., 1.])"
      ]
     },
     "execution_count": 26,
     "metadata": {},
     "output_type": "execute_result"
    }
   ],
   "source": [
    "O1 = np.ones(5)\n",
    "O1"
   ]
  },
  {
   "cell_type": "code",
   "execution_count": 28,
   "id": "439d7735",
   "metadata": {},
   "outputs": [
    {
     "data": {
      "text/plain": [
       "array([[1., 1., 1., 1., 1., 1.],\n",
       "       [1., 1., 1., 1., 1., 1.],\n",
       "       [1., 1., 1., 1., 1., 1.],\n",
       "       [1., 1., 1., 1., 1., 1.],\n",
       "       [1., 1., 1., 1., 1., 1.],\n",
       "       [1., 1., 1., 1., 1., 1.]])"
      ]
     },
     "execution_count": 28,
     "metadata": {},
     "output_type": "execute_result"
    }
   ],
   "source": [
    "O6 = np.ones((6,6)) \n",
    "O6"
   ]
  },
  {
   "cell_type": "markdown",
   "id": "ec28cf8d",
   "metadata": {},
   "source": [
    "# Linspace"
   ]
  },
  {
   "cell_type": "markdown",
   "id": "ca31de26",
   "metadata": {},
   "source": [
    "Return evenly spaced numbers over a specified interval"
   ]
  },
  {
   "cell_type": "code",
   "execution_count": 34,
   "id": "949c322c",
   "metadata": {},
   "outputs": [
    {
     "data": {
      "text/plain": [
       "array([ 1.        ,  1.68571429,  2.37142857,  3.05714286,  3.74285714,\n",
       "        4.42857143,  5.11428571,  5.8       ,  6.48571429,  7.17142857,\n",
       "        7.85714286,  8.54285714,  9.22857143,  9.91428571, 10.6       ,\n",
       "       11.28571429, 11.97142857, 12.65714286, 13.34285714, 14.02857143,\n",
       "       14.71428571, 15.4       , 16.08571429, 16.77142857, 17.45714286,\n",
       "       18.14285714, 18.82857143, 19.51428571, 20.2       , 20.88571429,\n",
       "       21.57142857, 22.25714286, 22.94285714, 23.62857143, 24.31428571,\n",
       "       25.        ])"
      ]
     },
     "execution_count": 34,
     "metadata": {},
     "output_type": "execute_result"
    }
   ],
   "source": [
    "L = np.linspace(1,25,36)\n",
    "L"
   ]
  },
  {
   "cell_type": "code",
   "execution_count": 42,
   "id": "1d5566d3",
   "metadata": {},
   "outputs": [
    {
     "data": {
      "text/plain": [
       "array([ 1.,  4.,  7., 10., 13., 16., 19., 22., 25.])"
      ]
     },
     "execution_count": 42,
     "metadata": {},
     "output_type": "execute_result"
    }
   ],
   "source": [
    "L = np.linspace(1,25,9)\n",
    "L"
   ]
  },
  {
   "cell_type": "code",
   "execution_count": 43,
   "id": "df47abe0",
   "metadata": {},
   "outputs": [
    {
     "data": {
      "text/plain": [
       "array([[ 1.,  4.,  7.],\n",
       "       [10., 13., 16.],\n",
       "       [19., 22., 25.]])"
      ]
     },
     "execution_count": 43,
     "metadata": {},
     "output_type": "execute_result"
    }
   ],
   "source": [
    "L3 =L.reshape(3,3)\n",
    "L3"
   ]
  },
  {
   "cell_type": "markdown",
   "id": "8cc01755",
   "metadata": {},
   "source": [
    "# Eye "
   ]
  },
  {
   "cell_type": "markdown",
   "id": "3b44da62",
   "metadata": {},
   "source": [
    "Creates an identity matrix, DOES NOT REQUIRE TUPLE TO PRINT"
   ]
  },
  {
   "cell_type": "code",
   "execution_count": 44,
   "id": "3eee15c0",
   "metadata": {},
   "outputs": [
    {
     "data": {
      "text/plain": [
       "array([[1., 0.],\n",
       "       [0., 1.]])"
      ]
     },
     "execution_count": 44,
     "metadata": {},
     "output_type": "execute_result"
    }
   ],
   "source": [
    "I2 = np.eye(2)\n",
    "I2"
   ]
  },
  {
   "cell_type": "code",
   "execution_count": 48,
   "id": "ddc182ff",
   "metadata": {},
   "outputs": [
    {
     "data": {
      "text/plain": [
       "array([[1., 0., 0., 0.],\n",
       "       [0., 1., 0., 0.],\n",
       "       [0., 0., 1., 0.],\n",
       "       [0., 0., 0., 1.]])"
      ]
     },
     "execution_count": 48,
     "metadata": {},
     "output_type": "execute_result"
    }
   ],
   "source": [
    "I4 = np.eye(4,4)\n",
    "I4"
   ]
  },
  {
   "cell_type": "code",
   "execution_count": 51,
   "id": "84b05bcc",
   "metadata": {},
   "outputs": [
    {
     "data": {
      "text/plain": [
       "array([[1., 0., 0.],\n",
       "       [0., 1., 0.],\n",
       "       [0., 0., 1.],\n",
       "       [0., 0., 0.]])"
      ]
     },
     "execution_count": 51,
     "metadata": {},
     "output_type": "execute_result"
    }
   ],
   "source": [
    "I43 = np.eye(4,3)\n",
    "I43"
   ]
  },
  {
   "cell_type": "code",
   "execution_count": 52,
   "id": "cd1dbb99",
   "metadata": {},
   "outputs": [
    {
     "data": {
      "text/plain": [
       "array([[1., 0.],\n",
       "       [0., 1.]])"
      ]
     },
     "execution_count": 52,
     "metadata": {},
     "output_type": "execute_result"
    }
   ],
   "source": [
    "I43[0:2,0:2]"
   ]
  },
  {
   "cell_type": "markdown",
   "id": "f3be7c00",
   "metadata": {},
   "source": [
    "# Random"
   ]
  },
  {
   "cell_type": "markdown",
   "id": "2181a2bd",
   "metadata": {},
   "source": [
    "Create an array of the given shape an populate it with random smaples from a uniform distribution over [0,1]"
   ]
  },
  {
   "cell_type": "code",
   "execution_count": 53,
   "id": "66e93517",
   "metadata": {},
   "outputs": [],
   "source": [
    "import random"
   ]
  },
  {
   "cell_type": "code",
   "execution_count": 55,
   "id": "e2ff2f12",
   "metadata": {},
   "outputs": [
    {
     "data": {
      "text/plain": [
       "array([[0.43305273, 0.06435531, 0.36481259, 0.17548234],\n",
       "       [0.75817444, 0.28847634, 0.83491561, 0.12797259],\n",
       "       [0.25821155, 0.66386385, 0.0359643 , 0.81250459]])"
      ]
     },
     "execution_count": 55,
     "metadata": {},
     "output_type": "execute_result"
    }
   ],
   "source": [
    "arr = np.random.rand(3,4) \n",
    "arr"
   ]
  },
  {
   "cell_type": "code",
   "execution_count": 56,
   "id": "9fa34931",
   "metadata": {},
   "outputs": [],
   "source": [
    "from numpy.random import rand"
   ]
  },
  {
   "cell_type": "code",
   "execution_count": 58,
   "id": "26d8c7d7",
   "metadata": {},
   "outputs": [
    {
     "data": {
      "text/plain": [
       "array([[0.6081537 , 0.9551507 , 0.09907633, 0.75880119],\n",
       "       [0.21560031, 0.17839046, 0.13945092, 0.49589669],\n",
       "       [0.41949008, 0.97871328, 0.5470129 , 0.72619708]])"
      ]
     },
     "execution_count": 58,
     "metadata": {},
     "output_type": "execute_result"
    }
   ],
   "source": [
    "arr_simple = rand(3,4)\n",
    "arr_simple"
   ]
  },
  {
   "cell_type": "markdown",
   "id": "f8142663",
   "metadata": {},
   "source": [
    "# randn"
   ]
  },
  {
   "cell_type": "markdown",
   "id": "cdf745d9",
   "metadata": {},
   "source": [
    "Return a sample (or samples) from the \"standard normal\" distribution. Unlike rand which is uniform"
   ]
  },
  {
   "cell_type": "code",
   "execution_count": 59,
   "id": "bfe1b0f7",
   "metadata": {},
   "outputs": [],
   "source": [
    "from numpy.random import randn"
   ]
  },
  {
   "cell_type": "code",
   "execution_count": 61,
   "id": "aae607cc",
   "metadata": {},
   "outputs": [
    {
     "data": {
      "text/plain": [
       "array([[-0.3076433 , -0.61224816],\n",
       "       [-0.55842775, -1.77288205],\n",
       "       [-1.22414241,  0.56535133]])"
      ]
     },
     "execution_count": 61,
     "metadata": {},
     "output_type": "execute_result"
    }
   ],
   "source": [
    "mat = randn(3,2)\n",
    "mat"
   ]
  },
  {
   "cell_type": "markdown",
   "id": "2ca76514",
   "metadata": {},
   "source": [
    "# max, min, argmax, argmin "
   ]
  },
  {
   "cell_type": "markdown",
   "id": "e67da247",
   "metadata": {},
   "source": [
    "These are useful methods for finding max or min values.Or to find their index locations using argmin or argmax."
   ]
  },
  {
   "cell_type": "code",
   "execution_count": null,
   "id": "113b12ff",
   "metadata": {},
   "outputs": [],
   "source": [
    "#ranarr = np.random.ran"
   ]
  }
 ],
 "metadata": {
  "kernelspec": {
   "display_name": "Python 3 (ipykernel)",
   "language": "python",
   "name": "python3"
  },
  "language_info": {
   "codemirror_mode": {
    "name": "ipython",
    "version": 3
   },
   "file_extension": ".py",
   "mimetype": "text/x-python",
   "name": "python",
   "nbconvert_exporter": "python",
   "pygments_lexer": "ipython3",
   "version": "3.9.12"
  }
 },
 "nbformat": 4,
 "nbformat_minor": 5
}
