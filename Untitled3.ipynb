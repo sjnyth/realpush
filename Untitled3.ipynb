{
 "cells": [
  {
   "cell_type": "code",
   "execution_count": null,
   "id": "2bc5e3a4",
   "metadata": {},
   "outputs": [],
   "source": [
    "import pandas as pd\n",
    "import numpy as np\n",
    "import seaborn as sns\n",
    "import matplotlib.pyplot as plt\n",
    "%matplotlib inline\n"
   ]
  },
  {
   "cell_type": "code",
   "execution_count": null,
   "id": "ddf73449",
   "metadata": {},
   "outputs": [],
   "source": [
    "import pandas as pd\n",
    "import numpy as np\n",
    "import os\n",
    "\n",
    "from matplotlib import pyplot as plt\n",
    "import seaborn as sns\n",
    "from matplotlib.ticker import FuncFormatter"
   ]
  },
  {
   "cell_type": "code",
   "execution_count": null,
   "id": "0589ef9d",
   "metadata": {},
   "outputs": [],
   "source": [
    "names_dir='/c/Users/User/fol/pushing_git/namesbystate/'\n",
    "names_data_list=[]\n",
    "names_columns=['state','gender','year', 'name','babies']\n",
    "for file in os.listdir(names_dir):\n",
    "    if file.endswith('.TXT'):\n",
    "        names_data=pd.read_csv(names_dir+file, header=None, names=names_columns)\n",
    "        names_data_list.append(names_data)\n",
    "    else:\n",
    "        continue\n",
    "names_data=pd.concat(names_data_list)         \n",
    "               "
   ]
  },
  {
   "cell_type": "code",
   "execution_count": null,
   "id": "65831a13",
   "metadata": {},
   "outputs": [],
   "source": [
    "data=names_data[names_data['year']>=1950]"
   ]
  },
  {
   "cell_type": "code",
   "execution_count": null,
   "id": "1fd5108d",
   "metadata": {},
   "outputs": [],
   "source": [
    "data.head(2)"
   ]
  }
 ],
 "metadata": {
  "kernelspec": {
   "display_name": "Python 3 (ipykernel)",
   "language": "python",
   "name": "python3"
  },
  "language_info": {
   "codemirror_mode": {
    "name": "ipython",
    "version": 3
   },
   "file_extension": ".py",
   "mimetype": "text/x-python",
   "name": "python",
   "nbconvert_exporter": "python",
   "pygments_lexer": "ipython3",
   "version": "3.9.12"
  }
 },
 "nbformat": 4,
 "nbformat_minor": 5
}
