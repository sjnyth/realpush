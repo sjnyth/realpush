{
 "cells": [
  {
   "cell_type": "code",
   "execution_count": 1,
   "id": "41c0b1a3",
   "metadata": {},
   "outputs": [
    {
     "data": {
      "text/plain": [
       "['apple', 'orange', 'mango', 'banana']"
      ]
     },
     "execution_count": 1,
     "metadata": {},
     "output_type": "execute_result"
    }
   ],
   "source": [
    "\n",
    "a_list = ['apple', 'orange','mango', 'banana']\n",
    "a_list"
   ]
  },
  {
   "cell_type": "code",
   "execution_count": 3,
   "id": "734531b2",
   "metadata": {},
   "outputs": [
    {
     "data": {
      "text/plain": [
       "list"
      ]
     },
     "execution_count": 3,
     "metadata": {},
     "output_type": "execute_result"
    }
   ],
   "source": [
    "type(a_list)"
   ]
  },
  {
   "cell_type": "code",
   "execution_count": 4,
   "id": "6d5ffdf1",
   "metadata": {},
   "outputs": [
    {
     "data": {
      "text/plain": [
       "['apple', 'orange', 'mango', 'banana', 'peach']"
      ]
     },
     "execution_count": 4,
     "metadata": {},
     "output_type": "execute_result"
    }
   ],
   "source": [
    "# append method\n",
    "a_list.append('peach')\n",
    "a_list"
   ]
  },
  {
   "cell_type": "code",
   "execution_count": 5,
   "id": "141e9d7e",
   "metadata": {},
   "outputs": [
    {
     "data": {
      "text/plain": [
       "'orange'"
      ]
     },
     "execution_count": 5,
     "metadata": {},
     "output_type": "execute_result"
    }
   ],
   "source": [
    "#pop method\n",
    "a_list.pop(1)"
   ]
  },
  {
   "cell_type": "code",
   "execution_count": 7,
   "id": "752e9f0a",
   "metadata": {},
   "outputs": [
    {
     "data": {
      "text/plain": [
       "'apple'"
      ]
     },
     "execution_count": 7,
     "metadata": {},
     "output_type": "execute_result"
    }
   ],
   "source": [
    "a_list[0]"
   ]
  },
  {
   "cell_type": "code",
   "execution_count": 9,
   "id": "4cd2751c",
   "metadata": {},
   "outputs": [
    {
     "data": {
      "text/plain": [
       "'peach'"
      ]
     },
     "execution_count": 9,
     "metadata": {},
     "output_type": "execute_result"
    }
   ],
   "source": [
    "a_list[-1]"
   ]
  },
  {
   "cell_type": "code",
   "execution_count": 10,
   "id": "550e70a8",
   "metadata": {},
   "outputs": [
    {
     "data": {
      "text/plain": [
       "['apple', 'mango', 'banana', 'peach']"
      ]
     },
     "execution_count": 10,
     "metadata": {},
     "output_type": "execute_result"
    }
   ],
   "source": [
    "a_list"
   ]
  },
  {
   "cell_type": "code",
   "execution_count": 11,
   "id": "5149fd7a",
   "metadata": {},
   "outputs": [
    {
     "data": {
      "text/plain": [
       "'peach'"
      ]
     },
     "execution_count": 11,
     "metadata": {},
     "output_type": "execute_result"
    }
   ],
   "source": [
    "a_list[3]"
   ]
  },
  {
   "cell_type": "code",
   "execution_count": 15,
   "id": "0f63962a",
   "metadata": {},
   "outputs": [
    {
     "data": {
      "text/plain": [
       "['mark',\n",
       " 'josh',\n",
       " 'jillian',\n",
       " 'howard',\n",
       " 'joseph',\n",
       " 'kara',\n",
       " 'tehya',\n",
       " 'cora',\n",
       " 'tim',\n",
       " 'john']"
      ]
     },
     "execution_count": 15,
     "metadata": {},
     "output_type": "execute_result"
    }
   ],
   "source": [
    "friends_list = ['mark', 'josh', 'jillian', 'howard', 'joseph', 'kara', 'tehya', 'cora', 'tim', 'john']\n",
    "friends_list"
   ]
  },
  {
   "cell_type": "code",
   "execution_count": 16,
   "id": "8236bd8e",
   "metadata": {},
   "outputs": [
    {
     "data": {
      "text/plain": [
       "list"
      ]
     },
     "execution_count": 16,
     "metadata": {},
     "output_type": "execute_result"
    }
   ],
   "source": [
    "type(friends_list)"
   ]
  },
  {
   "cell_type": "code",
   "execution_count": 26,
   "id": "a95198ef",
   "metadata": {},
   "outputs": [
    {
     "data": {
      "text/plain": [
       "['mark',\n",
       " 'josh',\n",
       " 'jillian',\n",
       " 'howard',\n",
       " 'joseph',\n",
       " 'kara',\n",
       " 'cora',\n",
       " 'tim',\n",
       " 'john',\n",
       " 'kemar',\n",
       " 'kemar',\n",
       " 'kemar']"
      ]
     },
     "execution_count": 26,
     "metadata": {},
     "output_type": "execute_result"
    }
   ],
   "source": [
    "friends_list.append('kemar')\n",
    "friends_list"
   ]
  },
  {
   "cell_type": "code",
   "execution_count": 21,
   "id": "70a5f7f4",
   "metadata": {},
   "outputs": [
    {
     "data": {
      "text/plain": [
       "'tehya'"
      ]
     },
     "execution_count": 21,
     "metadata": {},
     "output_type": "execute_result"
    }
   ],
   "source": [
    "friends_list.pop(6)"
   ]
  },
  {
   "cell_type": "code",
   "execution_count": 23,
   "id": "bed76c87",
   "metadata": {},
   "outputs": [
    {
     "data": {
      "text/plain": [
       "'kemar'"
      ]
     },
     "execution_count": 23,
     "metadata": {},
     "output_type": "execute_result"
    }
   ],
   "source": [
    "friends_list[-1]"
   ]
  },
  {
   "cell_type": "code",
   "execution_count": null,
   "id": "30565ca4",
   "metadata": {},
   "outputs": [],
   "source": []
  },
  {
   "cell_type": "code",
   "execution_count": 28,
   "id": "07f6ee51",
   "metadata": {},
   "outputs": [
    {
     "data": {
      "text/plain": [
       "['apple', 'banana', 'peach']"
      ]
     },
     "execution_count": 28,
     "metadata": {},
     "output_type": "execute_result"
    }
   ],
   "source": [
    "#remove method\n",
    "a_list.remove('mango')\n",
    "a_list"
   ]
  },
  {
   "cell_type": "code",
   "execution_count": 29,
   "id": "a44f02ea",
   "metadata": {},
   "outputs": [
    {
     "data": {
      "text/plain": [
       "['apple', 'banana', 'peach']"
      ]
     },
     "execution_count": 29,
     "metadata": {},
     "output_type": "execute_result"
    }
   ],
   "source": [
    "b_list = a_list.copy()\n",
    "b_list"
   ]
  },
  {
   "cell_type": "markdown",
   "id": "b0ce5023",
   "metadata": {},
   "source": [
    "# *Dictionaries\n",
    "Are used to store key: values. The items in the dictionary are created inside curly brackets { }"
   ]
  },
  {
   "cell_type": "code",
   "execution_count": 35,
   "id": "6b3f2e3a",
   "metadata": {},
   "outputs": [
    {
     "data": {
      "text/plain": [
       "{'make': 'Toyota', 'model': 'Land Cruiser', 'year': 2022}"
      ]
     },
     "execution_count": 35,
     "metadata": {},
     "output_type": "execute_result"
    }
   ],
   "source": [
    "#Example: \n",
    "cars = {'make':'Toyota', 'model': 'Land Cruiser','year': 2022}\n",
    "cars"
   ]
  },
  {
   "cell_type": "code",
   "execution_count": 33,
   "id": "fae14b9c",
   "metadata": {},
   "outputs": [
    {
     "data": {
      "text/plain": [
       "'Toyota'"
      ]
     },
     "execution_count": 33,
     "metadata": {},
     "output_type": "execute_result"
    }
   ],
   "source": [
    "cars['make']"
   ]
  },
  {
   "cell_type": "code",
   "execution_count": 34,
   "id": "894271eb",
   "metadata": {},
   "outputs": [
    {
     "data": {
      "text/plain": [
       "{'make': 'Toyota', 'model': 'Land Cruiser', 'Year': 2022, 'year': 2023}"
      ]
     },
     "execution_count": 34,
     "metadata": {},
     "output_type": "execute_result"
    }
   ],
   "source": [
    "cars['year'] = 2023\n",
    "cars"
   ]
  },
  {
   "cell_type": "code",
   "execution_count": 37,
   "id": "5d31f24b",
   "metadata": {},
   "outputs": [
    {
     "data": {
      "text/plain": [
       "{'make': 'Toyota', 'model': 'Land Cruiser', 'year': 2022, 'color': 'Black'}"
      ]
     },
     "execution_count": 37,
     "metadata": {},
     "output_type": "execute_result"
    }
   ],
   "source": [
    "cars['color'] = 'Black'\n",
    "cars"
   ]
  },
  {
   "cell_type": "code",
   "execution_count": 38,
   "id": "f02816cd",
   "metadata": {},
   "outputs": [
    {
     "data": {
      "text/plain": [
       "dict_keys(['make', 'model', 'year', 'color'])"
      ]
     },
     "execution_count": 38,
     "metadata": {},
     "output_type": "execute_result"
    }
   ],
   "source": [
    "cars.keys()\n"
   ]
  },
  {
   "cell_type": "code",
   "execution_count": 40,
   "id": "ff40b399",
   "metadata": {},
   "outputs": [
    {
     "data": {
      "text/plain": [
       "dict_values(['Toyota', 'Land Cruiser', 2022, 'Black'])"
      ]
     },
     "execution_count": 40,
     "metadata": {},
     "output_type": "execute_result"
    }
   ],
   "source": [
    "cars.values()"
   ]
  },
  {
   "cell_type": "code",
   "execution_count": 41,
   "id": "e06dc7bc",
   "metadata": {},
   "outputs": [
    {
     "data": {
      "text/plain": [
       "dict_items([('make', 'Toyota'), ('model', 'Land Cruiser'), ('year', 2022), ('color', 'Black')])"
      ]
     },
     "execution_count": 41,
     "metadata": {},
     "output_type": "execute_result"
    }
   ],
   "source": [
    "cars.items()"
   ]
  },
  {
   "cell_type": "code",
   "execution_count": 44,
   "id": "3d9391fe",
   "metadata": {},
   "outputs": [
    {
     "data": {
      "text/plain": [
       "{'name': 'La La Land', 'genre': 'Drama', 'year': 2019}"
      ]
     },
     "execution_count": 44,
     "metadata": {},
     "output_type": "execute_result"
    }
   ],
   "source": [
    "#example 2\n",
    "movies = {'name':'La La Land', 'genre': 'Drama','year': 2019}\n",
    "movies"
   ]
  },
  {
   "cell_type": "code",
   "execution_count": 48,
   "id": "f2fae604",
   "metadata": {},
   "outputs": [
    {
     "data": {
      "text/plain": [
       "{'name': 'La La Land',\n",
       " 'genre': 'Drama',\n",
       " 'year': 2019,\n",
       " 'production': 'Fox Searchlight'}"
      ]
     },
     "execution_count": 48,
     "metadata": {},
     "output_type": "execute_result"
    }
   ],
   "source": [
    "movies['production'] = 'Fox Searchlight'\n",
    "movies"
   ]
  },
  {
   "cell_type": "code",
   "execution_count": 50,
   "id": "cfe22532",
   "metadata": {},
   "outputs": [
    {
     "data": {
      "text/plain": [
       "{'name': 'La La Land',\n",
       " 'genre': 'Drama',\n",
       " 'year': 2017,\n",
       " 'production': 'Fox Searchlight'}"
      ]
     },
     "execution_count": 50,
     "metadata": {},
     "output_type": "execute_result"
    }
   ],
   "source": [
    "movies['year'] = 2017\n",
    "movies"
   ]
  },
  {
   "cell_type": "code",
   "execution_count": 51,
   "id": "8c668c51",
   "metadata": {},
   "outputs": [
    {
     "data": {
      "text/plain": [
       "dict_keys(['name', 'genre', 'year', 'production'])"
      ]
     },
     "execution_count": 51,
     "metadata": {},
     "output_type": "execute_result"
    }
   ],
   "source": [
    "movies.keys()"
   ]
  },
  {
   "cell_type": "code",
   "execution_count": 52,
   "id": "3565b1c3",
   "metadata": {},
   "outputs": [
    {
     "data": {
      "text/plain": [
       "dict_values(['La La Land', 'Drama', 2017, 'Fox Searchlight'])"
      ]
     },
     "execution_count": 52,
     "metadata": {},
     "output_type": "execute_result"
    }
   ],
   "source": [
    "movies.values()"
   ]
  },
  {
   "cell_type": "code",
   "execution_count": 53,
   "id": "7671add9",
   "metadata": {},
   "outputs": [
    {
     "data": {
      "text/plain": [
       "dict_items([('name', 'La La Land'), ('genre', 'Drama'), ('year', 2017), ('production', 'Fox Searchlight')])"
      ]
     },
     "execution_count": 53,
     "metadata": {},
     "output_type": "execute_result"
    }
   ],
   "source": [
    "movies.items()"
   ]
  },
  {
   "cell_type": "code",
   "execution_count": 55,
   "id": "340c6e47",
   "metadata": {},
   "outputs": [
    {
     "data": {
      "text/plain": [
       "{'name': 'La La Land',\n",
       " 'genre': 'Romance',\n",
       " 'year': 2017,\n",
       " 'production': 'Fox Searchlight'}"
      ]
     },
     "execution_count": 55,
     "metadata": {},
     "output_type": "execute_result"
    }
   ],
   "source": [
    "movies['genre'] = 'Romance'\n",
    "movies"
   ]
  },
  {
   "cell_type": "markdown",
   "id": "36a71e17",
   "metadata": {},
   "source": [
    " # Booleans"
   ]
  },
  {
   "cell_type": "code",
   "execution_count": 4,
   "id": "c1d09894",
   "metadata": {},
   "outputs": [
    {
     "name": "stdout",
     "output_type": "stream",
     "text": [
      "False\n"
     ]
    }
   ],
   "source": [
    "print(True == False)"
   ]
  },
  {
   "cell_type": "code",
   "execution_count": 7,
   "id": "9605d7b7",
   "metadata": {},
   "outputs": [
    {
     "name": "stdout",
     "output_type": "stream",
     "text": [
      "True\n"
     ]
    }
   ],
   "source": [
    "print((2>3) or (12<56)) #or use | shift and backslash"
   ]
  },
  {
   "cell_type": "code",
   "execution_count": 8,
   "id": "85f98679",
   "metadata": {},
   "outputs": [
    {
     "name": "stdout",
     "output_type": "stream",
     "text": [
      "False\n"
     ]
    }
   ],
   "source": [
    "print ((2>3) | (33>53))"
   ]
  },
  {
   "cell_type": "code",
   "execution_count": 9,
   "id": "fcff033d",
   "metadata": {},
   "outputs": [
    {
     "name": "stdout",
     "output_type": "stream",
     "text": [
      "True\n"
     ]
    }
   ],
   "source": [
    "print ((7>2) & (28>12)) #or just use and"
   ]
  },
  {
   "cell_type": "code",
   "execution_count": 10,
   "id": "65ed4b51",
   "metadata": {},
   "outputs": [
    {
     "name": "stdout",
     "output_type": "stream",
     "text": [
      "False\n"
     ]
    }
   ],
   "source": [
    "print(66==73)"
   ]
  },
  {
   "cell_type": "code",
   "execution_count": 11,
   "id": "96cf1797",
   "metadata": {},
   "outputs": [
    {
     "name": "stdout",
     "output_type": "stream",
     "text": [
      "True\n"
     ]
    }
   ],
   "source": [
    "print(712 != 21)"
   ]
  },
  {
   "cell_type": "markdown",
   "id": "5f7482d2",
   "metadata": {},
   "source": [
    "# Tuples"
   ]
  },
  {
   "cell_type": "raw",
   "id": "0686a4aa",
   "metadata": {},
   "source": [
    "#Tuples are immutable objects. Once you set it you can change it"
   ]
  },
  {
   "cell_type": "code",
   "execution_count": 12,
   "id": "4e99d375",
   "metadata": {},
   "outputs": [],
   "source": [
    "t = (1,2,3,4,5)"
   ]
  },
  {
   "cell_type": "code",
   "execution_count": 13,
   "id": "3ff68b7f",
   "metadata": {},
   "outputs": [],
   "source": [
    "a,b,c,d,e = t"
   ]
  },
  {
   "cell_type": "code",
   "execution_count": 14,
   "id": "40d155d3",
   "metadata": {},
   "outputs": [
    {
     "data": {
      "text/plain": [
       "1"
      ]
     },
     "execution_count": 14,
     "metadata": {},
     "output_type": "execute_result"
    }
   ],
   "source": [
    "a"
   ]
  },
  {
   "cell_type": "code",
   "execution_count": 15,
   "id": "a83ffb37",
   "metadata": {},
   "outputs": [
    {
     "data": {
      "text/plain": [
       "2"
      ]
     },
     "execution_count": 15,
     "metadata": {},
     "output_type": "execute_result"
    }
   ],
   "source": [
    "b"
   ]
  },
  {
   "cell_type": "code",
   "execution_count": 16,
   "id": "3c63b856",
   "metadata": {},
   "outputs": [
    {
     "data": {
      "text/plain": [
       "3"
      ]
     },
     "execution_count": 16,
     "metadata": {},
     "output_type": "execute_result"
    }
   ],
   "source": [
    "c"
   ]
  },
  {
   "cell_type": "code",
   "execution_count": 17,
   "id": "a26e2d18",
   "metadata": {},
   "outputs": [
    {
     "data": {
      "text/plain": [
       "1"
      ]
     },
     "execution_count": 17,
     "metadata": {},
     "output_type": "execute_result"
    }
   ],
   "source": [
    "t[0] #recall list"
   ]
  },
  {
   "cell_type": "code",
   "execution_count": 18,
   "id": "0e610546",
   "metadata": {},
   "outputs": [
    {
     "data": {
      "text/plain": [
       "5"
      ]
     },
     "execution_count": 18,
     "metadata": {},
     "output_type": "execute_result"
    }
   ],
   "source": [
    "t[-1]"
   ]
  },
  {
   "cell_type": "code",
   "execution_count": 19,
   "id": "2e4c11ab",
   "metadata": {},
   "outputs": [
    {
     "ename": "TypeError",
     "evalue": "'tuple' object does not support item assignment",
     "output_type": "error",
     "traceback": [
      "\u001b[1;31m---------------------------------------------------------------------------\u001b[0m",
      "\u001b[1;31mTypeError\u001b[0m                                 Traceback (most recent call last)",
      "Input \u001b[1;32mIn [19]\u001b[0m, in \u001b[0;36m<cell line: 1>\u001b[1;34m()\u001b[0m\n\u001b[1;32m----> 1\u001b[0m t[\u001b[38;5;241m3\u001b[39m]\u001b[38;5;241m=\u001b[39m\u001b[38;5;241m100\u001b[39m\n",
      "\u001b[1;31mTypeError\u001b[0m: 'tuple' object does not support item assignment"
     ]
    }
   ],
   "source": [
    "t[3]=100 #in list you can update the values, in tuples, you cannot, hence immutable"
   ]
  },
  {
   "cell_type": "code",
   "execution_count": 20,
   "id": "29eb9fb0",
   "metadata": {},
   "outputs": [
    {
     "data": {
      "text/plain": [
       "4"
      ]
     },
     "execution_count": 20,
     "metadata": {},
     "output_type": "execute_result"
    }
   ],
   "source": [
    "t[3]"
   ]
  },
  {
   "cell_type": "markdown",
   "id": "36c0534a",
   "metadata": {},
   "source": [
    "* # sets: no repetitions, do not repeat set member"
   ]
  },
  {
   "cell_type": "code",
   "execution_count": 22,
   "id": "44520e3b",
   "metadata": {},
   "outputs": [],
   "source": [
    "a = [2,4,2,23,4,3,411,3,2,1,1,1,14,4]"
   ]
  },
  {
   "cell_type": "code",
   "execution_count": 24,
   "id": "bddd15b0",
   "metadata": {},
   "outputs": [
    {
     "data": {
      "text/plain": [
       "{1, 2, 3, 4, 14, 23, 411}"
      ]
     },
     "execution_count": 24,
     "metadata": {},
     "output_type": "execute_result"
    }
   ],
   "source": [
    "s1 = set(a) #use set function\n",
    "s1"
   ]
  },
  {
   "cell_type": "markdown",
   "id": "e62f1385",
   "metadata": {},
   "source": [
    "# Basic Operations"
   ]
  },
  {
   "cell_type": "markdown",
   "id": "db5e92a1",
   "metadata": {},
   "source": [
    "* # if, elif, else statements"
   ]
  },
  {
   "cell_type": "code",
   "execution_count": 25,
   "id": "6e5c50f9",
   "metadata": {},
   "outputs": [],
   "source": [
    "seq = [1,2,3,4,5,6,7,8,9]"
   ]
  },
  {
   "cell_type": "code",
   "execution_count": 26,
   "id": "d466d6e7",
   "metadata": {},
   "outputs": [],
   "source": [
    "our_list= ['johnny', 'john','jon','mark','tony','pintu','parker','greg','shiv']"
   ]
  },
  {
   "cell_type": "code",
   "execution_count": 27,
   "id": "10ecd8a4",
   "metadata": {},
   "outputs": [],
   "source": [
    "name = \"Jose\""
   ]
  },
  {
   "cell_type": "code",
   "execution_count": 34,
   "id": "057b16ae",
   "metadata": {},
   "outputs": [
    {
     "ename": "NameError",
     "evalue": "name 'our_list' is not defined",
     "output_type": "error",
     "traceback": [
      "\u001b[1;31m---------------------------------------------------------------------------\u001b[0m",
      "\u001b[1;31mNameError\u001b[0m                                 Traceback (most recent call last)",
      "Input \u001b[1;32mIn [34]\u001b[0m, in \u001b[0;36m<cell line: 1>\u001b[1;34m()\u001b[0m\n\u001b[1;32m----> 1\u001b[0m \u001b[38;5;28;01mif\u001b[39;00m name \u001b[38;5;129;01min\u001b[39;00m \u001b[43mour_list\u001b[49m:\n\u001b[0;32m      2\u001b[0m     \u001b[38;5;28mprint\u001b[39m(\u001b[38;5;124m'\u001b[39m\u001b[38;5;124mstudent\u001b[39m\u001b[38;5;124m'\u001b[39m)\n\u001b[0;32m      3\u001b[0m \u001b[38;5;28;01melse\u001b[39;00m:\n",
      "\u001b[1;31mNameError\u001b[0m: name 'our_list' is not defined"
     ]
    }
   ],
   "source": [
    "if name in our_list:\n",
    "    print('student')\n",
    "else:\n",
    "    print('Not a student')\n",
    "        "
   ]
  },
  {
   "cell_type": "code",
   "execution_count": 30,
   "id": "af1b9fb1",
   "metadata": {},
   "outputs": [],
   "source": [
    "new = 'john'"
   ]
  },
  {
   "cell_type": "code",
   "execution_count": 33,
   "id": "e1304fe6",
   "metadata": {},
   "outputs": [
    {
     "ename": "NameError",
     "evalue": "name 'our_list' is not defined",
     "output_type": "error",
     "traceback": [
      "\u001b[1;31m---------------------------------------------------------------------------\u001b[0m",
      "\u001b[1;31mNameError\u001b[0m                                 Traceback (most recent call last)",
      "Input \u001b[1;32mIn [33]\u001b[0m, in \u001b[0;36m<cell line: 1>\u001b[1;34m()\u001b[0m\n\u001b[1;32m----> 1\u001b[0m \u001b[38;5;28;01mif\u001b[39;00m new \u001b[38;5;129;01min\u001b[39;00m \u001b[43mour_list\u001b[49m:\n\u001b[0;32m      2\u001b[0m     \u001b[38;5;28mprint\u001b[39m(\u001b[38;5;124m'\u001b[39m\u001b[38;5;124mstudent\u001b[39m\u001b[38;5;124m'\u001b[39m)\n\u001b[0;32m      3\u001b[0m \u001b[38;5;28;01melif\u001b[39;00m new [\u001b[38;5;241m0\u001b[39m] \u001b[38;5;241m==\u001b[39m \u001b[38;5;124m'\u001b[39m\u001b[38;5;124mj\u001b[39m\u001b[38;5;124m'\u001b[39m:\n",
      "\u001b[1;31mNameError\u001b[0m: name 'our_list' is not defined"
     ]
    }
   ],
   "source": [
    "if new in our_list:\n",
    "    print('student')\n",
    "elif new [0] == 'j':\n",
    "    print('sounds familiar')\n",
    "else: \n",
    "    print('not a student')"
   ]
  },
  {
   "cell_type": "code",
   "execution_count": null,
   "id": "a6425d15",
   "metadata": {},
   "outputs": [],
   "source": []
  }
 ],
 "metadata": {
  "kernelspec": {
   "display_name": "Python 3 (ipykernel)",
   "language": "python",
   "name": "python3"
  },
  "language_info": {
   "codemirror_mode": {
    "name": "ipython",
    "version": 3
   },
   "file_extension": ".py",
   "mimetype": "text/x-python",
   "name": "python",
   "nbconvert_exporter": "python",
   "pygments_lexer": "ipython3",
   "version": "3.9.12"
  }
 },
 "nbformat": 4,
 "nbformat_minor": 5
}
